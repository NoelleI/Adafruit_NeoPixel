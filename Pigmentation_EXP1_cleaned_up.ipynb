{
  "nbformat": 4,
  "nbformat_minor": 0,
  "metadata": {
    "colab": {
      "name": "Pigmentation_resized_ordered.ipynb",
      "provenance": [],
      "include_colab_link": true
    },
    "language_info": {
      "codemirror_mode": {
        "name": "ipython",
        "version": 3
      },
      "file_extension": ".py",
      "mimetype": "text/x-python",
      "name": "python",
      "nbconvert_exporter": "python",
      "pygments_lexer": "ipython3",
      "version": "3.5.4"
    },
    "kernelspec": {
      "name": "python3",
      "display_name": "Python 3"
    },
    "accelerator": "GPU"
  },
  "cells": [
    {
      "cell_type": "markdown",
      "metadata": {
        "id": "view-in-github",
        "colab_type": "text"
      },
      "source": [
        "<a href=\"https://colab.research.google.com/github/NoelleI/Adafruit_NeoPixel/blob/master/Pigmentation_EXP1_cleaned_up.ipynb\" target=\"_parent\"><img src=\"https://colab.research.google.com/assets/colab-badge.svg\" alt=\"Open In Colab\"/></a>"
      ]
    },
    {
      "cell_type": "markdown",
      "metadata": {
        "id": "241BvQNpfNyB",
        "colab_type": "text"
      },
      "source": [
        "# Melanoma with CNN"
      ]
    },
    {
      "cell_type": "markdown",
      "metadata": {
        "id": "HPubA4t4fNyC",
        "colab_type": "text"
      },
      "source": [
        "This analysis trains a neural network to perform segmentation on melanoma data and then applies the algorithm to segment a pigmentation lesion"
      ]
    },
    {
      "cell_type": "markdown",
      "metadata": {
        "id": "A0VaxmP22GVM",
        "colab_type": "text"
      },
      "source": [
        "This line clones the github repository so that data may be accessed and the file can be saved there"
      ]
    },
    {
      "cell_type": "code",
      "metadata": {
        "id": "ddSl392jIi_w",
        "colab_type": "code",
        "outputId": "86691194-a9d3-4c22-d165-ba3410ff36a7",
        "colab": {
          "base_uri": "https://localhost:8080/",
          "height": 34
        }
      },
      "source": [
        "!git clone https://github.com/NoelleI/Pigmentation.git"
      ],
      "execution_count": 1,
      "outputs": [
        {
          "output_type": "stream",
          "text": [
            "fatal: destination path 'Pigmentation' already exists and is not an empty directory.\n"
          ],
          "name": "stdout"
        }
      ]
    },
    {
      "cell_type": "markdown",
      "metadata": {
        "id": "3cswYjth4ck7",
        "colab_type": "text"
      },
      "source": [
        "This mounts Google Drive to access the ~10G melanoma photo data sets\n",
        "\n",
        "1.   List item\n",
        "2.   List item\n",
        "\n"
      ]
    },
    {
      "cell_type": "code",
      "metadata": {
        "id": "8ReR4v01td3m",
        "colab_type": "code",
        "outputId": "0d959327-e66e-433f-b51d-8901396ee282",
        "colab": {
          "base_uri": "https://localhost:8080/",
          "height": 34
        }
      },
      "source": [
        "from google.colab import drive\n",
        "drive.mount('/content/gdrive', force_remount=True) "
      ],
      "execution_count": 2,
      "outputs": [
        {
          "output_type": "stream",
          "text": [
            "Mounted at /content/gdrive\n"
          ],
          "name": "stdout"
        }
      ]
    },
    {
      "cell_type": "markdown",
      "metadata": {
        "id": "V06CxqJdD2mB",
        "colab_type": "text"
      },
      "source": [
        "Import Packages with required versions"
      ]
    },
    {
      "cell_type": "code",
      "metadata": {
        "id": "efKvkEMKfNyD",
        "colab_type": "code",
        "outputId": "5278fe61-df1e-408e-ebdb-a6f3cc29ee10",
        "colab": {
          "base_uri": "https://localhost:8080/",
          "height": 63
        }
      },
      "source": [
        "import tensorflow as tf\n",
        "import matplotlib.pyplot as plt\n",
        "import matplotlib.image as mpimg\n",
        "import os\n",
        "\n",
        "%matplotlib inline\n"
      ],
      "execution_count": 3,
      "outputs": [
        {
          "output_type": "display_data",
          "data": {
            "text/html": [
              "<p style=\"color: red;\">\n",
              "The default version of TensorFlow in Colab will soon switch to TensorFlow 2.x.<br>\n",
              "We recommend you <a href=\"https://www.tensorflow.org/guide/migrate\" target=\"_blank\">upgrade</a> now \n",
              "or ensure your notebook will continue to use TensorFlow 1.x via the <code>%tensorflow_version 1.x</code> magic:\n",
              "<a href=\"https://colab.research.google.com/notebooks/tensorflow_version.ipynb\" target=\"_blank\">more info</a>.</p>\n"
            ],
            "text/plain": [
              "<IPython.core.display.HTML object>"
            ]
          },
          "metadata": {
            "tags": []
          }
        }
      ]
    },
    {
      "cell_type": "code",
      "metadata": {
        "id": "V1ccZ5owfNyR",
        "colab_type": "code",
        "colab": {}
      },
      "source": [
        "import skimage\n",
        "from skimage import transform"
      ],
      "execution_count": 0,
      "outputs": []
    },
    {
      "cell_type": "code",
      "metadata": {
        "colab_type": "code",
        "id": "_fX87W4oDk9P",
        "colab": {}
      },
      "source": [
        "import numpy as np\n"
      ],
      "execution_count": 0,
      "outputs": []
    },
    {
      "cell_type": "code",
      "metadata": {
        "id": "CQ48pRh55Xv7",
        "colab_type": "code",
        "outputId": "45215845-63a0-46cd-b562-a7c53f470a8f",
        "colab": {
          "base_uri": "https://localhost:8080/",
          "height": 34
        }
      },
      "source": [
        "import scipy\n",
        "scipy.__version__"
      ],
      "execution_count": 6,
      "outputs": [
        {
          "output_type": "execute_result",
          "data": {
            "text/plain": [
              "'1.0.0'"
            ]
          },
          "metadata": {
            "tags": []
          },
          "execution_count": 6
        }
      ]
    },
    {
      "cell_type": "code",
      "metadata": {
        "colab_type": "code",
        "id": "8XHIF5mdmW1X",
        "outputId": "caae18f2-2aa0-4232-d307-c3bf464c54a5",
        "colab": {
          "base_uri": "https://localhost:8080/",
          "height": 34
        }
      },
      "source": [
        "!pip install pillow"
      ],
      "execution_count": 7,
      "outputs": [
        {
          "output_type": "stream",
          "text": [
            "Requirement already satisfied: pillow in /usr/local/lib/python3.6/dist-packages (6.2.2)\n"
          ],
          "name": "stdout"
        }
      ]
    },
    {
      "cell_type": "code",
      "metadata": {
        "colab_type": "code",
        "id": "tBqV9RTtmYOX",
        "colab": {}
      },
      "source": [
        "if not (scipy.__version__ == '1.0.0'):\n",
        "  !pip uninstall scipy==1.3.0\n",
        "  !pip install scipy==1.0.0"
      ],
      "execution_count": 0,
      "outputs": []
    },
    {
      "cell_type": "code",
      "metadata": {
        "id": "uZK6LNtK22F0",
        "colab_type": "code",
        "colab": {}
      },
      "source": [
        " \n",
        "from skimage import data\n",
        "from skimage.color import rgb2hsv, rgb2lab"
      ],
      "execution_count": 0,
      "outputs": []
    },
    {
      "cell_type": "markdown",
      "metadata": {
        "id": "av9QGfnREUeR",
        "colab_type": "text"
      },
      "source": [
        "Get Pigmentation Photos"
      ]
    },
    {
      "cell_type": "code",
      "metadata": {
        "id": "CLb2SmFqfNyc",
        "colab_type": "code",
        "outputId": "7026f037-b181-4f0c-910e-8d427d0d7598",
        "colab": {
          "base_uri": "https://localhost:8080/",
          "height": 68
        }
      },
      "source": [
        "from scipy import ndimage, misc\n",
        "import re\n",
        "import os\n",
        "from datetime import datetime\n",
        "\n",
        "pigs = []\n",
        "filenames_dict = {}\n",
        "str = \"./Pigmentation/Pigmentation_photos/Experiment 1/Spot 4\"    #photo directory on cloned repository for experimental pigmentation data\n",
        "\n",
        "\n",
        "for root, dirnames, filenames in os.walk(str): \n",
        "    #print(filenames)\n",
        "    for filename in filenames:\n",
        "           # print(filename, \"\\n\")\n",
        "      #if re.search('d*[^{r|f}].jpg', filename):\n",
        "            #n =  re.match(\"(.*)(2019)(\\d*_\\d*)_(.*)\", filename)\n",
        "            #key = n.group(3)\n",
        "\n",
        "            #key = datetime.strptime(key, '%m%d_%H%M%S')\n",
        "           # print(key, \" \")\n",
        "           # print(filename, \"\\n\")\n",
        "            #print(os.path.join(root, filename), \"\\n\")\n",
        "            #filenames_dict.update({key: os.path.join(root, filename)})\n",
        "            #print(filenames_dict, \"\\n\\n\")\n",
        "            n = re.match(\"(\\d*)\", filename)\n",
        "            #print(n.group(), \" \")\n",
        "            #print(filename, \"\\n\")\n",
        "            #print(os.path.join(root, filename), \"\\n\")\n",
        "            filenames_dict.update({int(n.group()): os.path.join(root, filename)})\n",
        "            #print(filenames_dict, \"\\n\\n\")\n",
        "#print(filenames_dict.keys(),\"\\n\")\n",
        "for key in sorted(filenames_dict.keys()):\n",
        "  #print(key,filenames_dict[key], \"\\n\")\n",
        "  image = ndimage.imread(filenames_dict[key], mode=\"RGB\")\n",
        "  image = skimage.transform.resize(image, (192,256,3))  \n",
        "  \n",
        "  pigs+= [image]\n",
        "  \n",
        "  \n",
        "pigs = np.asarray(pigs)\n",
        "            \n",
        "\n"
      ],
      "execution_count": 10,
      "outputs": [
        {
          "output_type": "stream",
          "text": [
            "/usr/local/lib/python3.6/dist-packages/ipykernel_launcher.py:34: DeprecationWarning: `imread` is deprecated!\n",
            "`imread` is deprecated in SciPy 1.0.0.\n",
            "Use ``matplotlib.pyplot.imread`` instead.\n"
          ],
          "name": "stderr"
        }
      ]
    },
    {
      "cell_type": "markdown",
      "metadata": {
        "id": "QTV79wbQFQR6",
        "colab_type": "text"
      },
      "source": [
        "Retrieve unordered filenames for Melanoma training set from directory using os"
      ]
    },
    {
      "cell_type": "code",
      "metadata": {
        "id": "DPHVaLyG1u85",
        "colab_type": "code",
        "colab": {}
      },
      "source": [
        "from scipy import ndimage, misc\n",
        "import re\n",
        "import os\n",
        "#there are 2594 photos\n",
        "filenames_dict = {}\n",
        "for root, dirnames, filenames in os.walk(\"/content/gdrive/My Drive/Batches/ISIC2018_Task1-2_Training_Input_batches\"): #/content/gdrive/My Drive/ISIC2018_Task1-2_Training_Input/ISIC2018_Task1-2_Training_Input\"):\n",
        "    for filename in filenames:\n",
        "      if re.search('d*[^{r|f}].jpg', filename):\n",
        "            n = re.match(\"ISIC_(\\d*).\", filename)\n",
        "            filenames_dict.update({n.group(1): os.path.join(root, filename)})\n",
        "           \n",
        "           \n",
        "for root, dirnames, filenames in os.walk(\"/content/gdrive/My Drive/Batches/ISIC2018_Task1-2_Testing_Input_batches\"): #/content/gdrive/My Drive/ISIC2018_Task1-2_Training_Input/ISIC2018_Task1-2_Training_Input\"):\n",
        "    for filename in filenames:\n",
        "      if re.search('d*[^{r|f}].jpg', filename):\n",
        "            n = re.match(\"ISIC_(\\d*).\", filename)\n",
        "            filenames_dict.update({n.group(1): os.path.join(root, filename)})\n"
      ],
      "execution_count": 0,
      "outputs": []
    },
    {
      "cell_type": "code",
      "metadata": {
        "id": "6dtBAhE379SY",
        "colab_type": "code",
        "colab": {}
      },
      "source": [
        "#\"/content/gdrive/My Drive/Batches/ISIC2018_Task1_Training_GroundTruth_batches\"\n",
        "\n",
        "from scipy import ndimage, misc\n",
        "import re\n",
        "import os\n",
        "#there are 2594 photos\n",
        "labelnames_dict = {}\n",
        "for root, dirnames, filenames in os.walk(\"/content/gdrive/My Drive/Batches/ISIC2018_Task1_Training_GroundTruth_batches\"): #/content/gdrive/My Drive/ISIC2018_Task1-2_Training_Input/ISIC2018_Task1-2_Training_Input\"):\n",
        "    for filename in filenames:\n",
        "      if re.search('d*[^{r|f}]_segmentation.png', filename):\n",
        "           \n",
        "            n = re.match(\"ISIC_(\\d*)_\\w+\", filename)\n",
        "            labelnames_dict.update({n.group(1): os.path.join(root, filename)})\n",
        "           \n",
        "for root, dirnames, filenames in os.walk(\"/content/gdrive/My Drive/Batches/ISIC2018_Task1_Testing_GroundTruth_batches\"): #/content/gdrive/My Drive/ISIC2018_Task1-2_Training_Input/ISIC2018_Task1-2_Training_Input\"):\n",
        "    for filename in filenames:\n",
        "      if re.search('d*[^{r|f}]_segmentation.png', filename):\n",
        "            n = re.match(\"ISIC_(\\d*)_\\w+\", filename)\n",
        "            labelnames_dict.update({n.group(1): os.path.join(root, filename)})\n",
        "            "
      ],
      "execution_count": 0,
      "outputs": []
    },
    {
      "cell_type": "markdown",
      "metadata": {
        "id": "74pBUs2vGhHb",
        "colab_type": "text"
      },
      "source": [
        "Order the photos using dictionary sorting"
      ]
    },
    {
      "cell_type": "code",
      "metadata": {
        "id": "thW4Wug6BTem",
        "colab_type": "code",
        "outputId": "1f41f08f-5912-48fd-a208-7873ef874cfc",
        "colab": {
          "base_uri": "https://localhost:8080/",
          "height": 153
        }
      },
      "source": [
        "images = []\n",
        "segs = []\n",
        "for key in sorted(labelnames_dict.keys()):\n",
        "  image = ndimage.imread(filenames_dict[key], mode=\"RGB\")\n",
        "  seg = ndimage.imread(labelnames_dict[key], mode=\"L\")\n",
        "  images += [image]\n",
        "  segs += [seg]\n",
        "  \n",
        "images = np.array(images)\n",
        "segs = np.array(segs)"
      ],
      "execution_count": 13,
      "outputs": [
        {
          "output_type": "stream",
          "text": [
            "/usr/local/lib/python3.6/dist-packages/ipykernel_launcher.py:4: DeprecationWarning: `imread` is deprecated!\n",
            "`imread` is deprecated in SciPy 1.0.0.\n",
            "Use ``matplotlib.pyplot.imread`` instead.\n",
            "  after removing the cwd from sys.path.\n",
            "/usr/local/lib/python3.6/dist-packages/ipykernel_launcher.py:5: DeprecationWarning: `imread` is deprecated!\n",
            "`imread` is deprecated in SciPy 1.0.0.\n",
            "Use ``matplotlib.pyplot.imread`` instead.\n",
            "  \"\"\"\n"
          ],
          "name": "stderr"
        }
      ]
    },
    {
      "cell_type": "code",
      "metadata": {
        "scrolled": true,
        "id": "L4oVdioPfNyu",
        "colab_type": "code",
        "outputId": "42c6f0a8-53b9-4d73-9e18-14bf32caaaba",
        "colab": {
          "base_uri": "https://localhost:8080/",
          "height": 269
        }
      },
      "source": [
        "image = images[0,:,:,:]\n",
        "plt.imshow(image)\n",
        "plt.show()"
      ],
      "execution_count": 14,
      "outputs": [
        {
          "output_type": "display_data",
          "data": {
            "image/png": "[encoded data removed]",
            "text/plain": [
              "<Figure size 432x288 with 1 Axes>"
            ]
          },
          "metadata": {
            "tags": []
          }
        }
      ]
    },
    {
      "cell_type": "markdown",
      "metadata": {
        "id": "J8N4Xlk9fNzN",
        "colab_type": "text"
      },
      "source": [
        "### Helper Functions"
      ]
    },
    {
      "cell_type": "markdown",
      "metadata": {
        "id": "IS6Tms7_fNzN",
        "colab_type": "text"
      },
      "source": [
        "Function to help intialize random weights for fully connected or convolutional layers and deconvolutional layers"
      ]
    },
    {
      "cell_type": "code",
      "metadata": {
        "id": "nwxTUCjRfNzO",
        "colab_type": "code",
        "colab": {}
      },
      "source": [
        "from sklearn.model_selection import train_test_split\n",
        "trainim, testim, trainlab, testlab = train_test_split(images, segs, test_size = 0.05) #this is randomized each time the program is started and run from scratch"
      ],
      "execution_count": 0,
      "outputs": []
    },
    {
      "cell_type": "code",
      "metadata": {
        "id": "gIxY01G3fNzQ",
        "colab_type": "code",
        "outputId": "1ac73c0d-a9e6-4b2d-87ea-653130e9712b",
        "colab": {
          "base_uri": "https://localhost:8080/",
          "height": 34
        }
      },
      "source": [
        "trainim.shape"
      ],
      "execution_count": 16,
      "outputs": [
        {
          "output_type": "execute_result",
          "data": {
            "text/plain": [
              "(2464, 192, 256, 3)"
            ]
          },
          "metadata": {
            "tags": []
          },
          "execution_count": 16
        }
      ]
    },
    {
      "cell_type": "code",
      "metadata": {
        "id": "G-zXpjhkfNzS",
        "colab_type": "code",
        "outputId": "0e745daa-0556-4426-d050-20f3276880e4",
        "colab": {
          "base_uri": "https://localhost:8080/",
          "height": 34
        }
      },
      "source": [
        "np.max(testlab)"
      ],
      "execution_count": 17,
      "outputs": [
        {
          "output_type": "execute_result",
          "data": {
            "text/plain": [
              "255"
            ]
          },
          "metadata": {
            "tags": []
          },
          "execution_count": 17
        }
      ]
    },
    {
      "cell_type": "code",
      "metadata": {
        "id": "ndDyqlFhfNzU",
        "colab_type": "code",
        "outputId": "07109656-d3be-4c77-9c2d-b12d60883493",
        "colab": {
          "base_uri": "https://localhost:8080/",
          "height": 34
        }
      },
      "source": [
        "testlab.shape"
      ],
      "execution_count": 18,
      "outputs": [
        {
          "output_type": "execute_result",
          "data": {
            "text/plain": [
              "(130, 192, 256)"
            ]
          },
          "metadata": {
            "tags": []
          },
          "execution_count": 18
        }
      ]
    },
    {
      "cell_type": "code",
      "metadata": {
        "id": "4C4pwHf7fNza",
        "colab_type": "code",
        "outputId": "3302953e-da37-4e90-a7cd-8b5ca211a617",
        "colab": {
          "base_uri": "https://localhost:8080/",
          "height": 269
        }
      },
      "source": [
        "image = trainlab[0,:,:]\n",
        "plt.imshow(image)\n",
        "plt.show()"
      ],
      "execution_count": 19,
      "outputs": [
        {
          "output_type": "display_data",
          "data": {
            "image/png": "[encoded data removed]",
            "text/plain": [
              "<Figure size 432x288 with 1 Axes>"
            ]
          },
          "metadata": {
            "tags": []
          }
        }
      ]
    },
    {
      "cell_type": "code",
      "metadata": {
        "id": "-EiH3SAJc3Ru",
        "colab_type": "code",
        "outputId": "5860d67d-2092-415d-90f2-ff2f36dc3556",
        "colab": {
          "base_uri": "https://localhost:8080/",
          "height": 269
        }
      },
      "source": [
        "image = trainim[0,:,:,:]\n",
        "plt.imshow(image)\n",
        "plt.show()"
      ],
      "execution_count": 20,
      "outputs": [
        {
          "output_type": "display_data",
          "data": {
            "image/png": "[encoded data removed]",
            "text/plain": [
              "<Figure size 432x288 with 1 Axes>"
            ]
          },
          "metadata": {
            "tags": []
          }
        }
      ]
    },
    {
      "cell_type": "code",
      "metadata": {
        "id": "NdO5cX5d9aAE",
        "colab_type": "code",
        "colab": {}
      },
      "source": [
        "def data_augmentations(features,lables,flag):\n",
        "  if flag:\n",
        "    #print(\"treat the first input image\")\n",
        "    #hsv_img = rgb2hsv(features[0])  #add 3 hsv channels       \n",
        "    #plt.imshow(features[0])\n",
        "    #plt.show()\n",
        "    #plt.imshow(hsv_img)\n",
        "    #plt.show()\n",
        "    #print(hsv_img.dtype)\n",
        "    #print(features[0].dtype)\n",
        "    #print(hsv_img)\n",
        "    #print(features[0])\n",
        "    #l = rgb2lab(features[0])[:,:,0].reshape(192,256,1) #add the l channel from the lab space\n",
        "    #image = np.concatenate((features[0]/255,hsv_img,l), axis =2)  #concatenate into one big image\n",
        "    x2 = features[0].reshape([1,192,256,3]) #image.reshape([1,192,256,7])  #need to add \"1\" to first dimension for future concatenation\n",
        "    image = features[0]\n",
        "    #print(\"#flip the first image:\")\n",
        "    flip_ud_x2 = np.flipud(image).reshape([1,192,256,3])\n",
        "    #plt.imshow(flip_ud_x2[0,:,:,:3])\n",
        "   \n",
        "    #plt.show()\n",
        "    x2 = np.vstack((x2, flip_ud_x2)) \n",
        "    \n",
        "    #print(\"#rotate the first image by a random angle\")\n",
        "    ra = np.random.random()*360\n",
        "    rotate_x2 = ndimage.rotate(image, ra)\n",
        "    #print(image)\n",
        "    #print(rotate_x2)\n",
        "    #plt.imshow(rotate_x2[:,:,:3])\n",
        "    #plt.show()\n",
        "    #print(\"test1\")\n",
        "    rotate_x2 = skimage.transform.resize(rotate_x2, (1,192,256,3))\n",
        "    #plt.imshow(rotate_x2[0,:,:,:3])\n",
        "    #print(\"test2\")\n",
        "    x2 = np.vstack((x2, rotate_x2 )) \n",
        "    \n",
        "    #print(\"#treat the first label:\")\n",
        "    label = lables[0]\n",
        "    #plt.imshow(label)\n",
        "    #plt.show()\n",
        "    y2 = label.reshape([1,192,256,1])\n",
        "    #print(\"#flip the first label to match the first input image:\")\n",
        "    flip_ud_y2 = np.flipud(label).reshape([1,192,256,1])\n",
        "    y2 = np.vstack((y2, flip_ud_y2)) \n",
        "    #plt.imshow(flip_ud_y2[0:,:,:,:])\n",
        "    #plt.show()\n",
        "    #print(\"#rotate the label by the same angle as the image\")\n",
        "    rotate_y2 = ndimage.rotate(label, ra)\n",
        "    rotate_y2 = skimage.transform.resize(rotate_y2, (1,192,256,1))\n",
        "    y2 = np.vstack((y2, rotate_y2)) \n",
        "    #plt.imshow(rotate_y2) \n",
        "    #plt.show()\n",
        "  \n",
        "    i = 1\n",
        "    \n",
        "    #print('#treat the subsequent images and labels')\n",
        "    for image in features[1:]:\n",
        "      #print(i)\n",
        "      #plt.imshow(image)\n",
        "      #plt.show()\n",
        "      #hsv_img = rgb2hsv(image)  #add 3 hsv channels       \n",
        "      #plt.imshow(hsv_img)\n",
        "      #plt.show()\n",
        "      #l = rgb2lab(image)[:,:,0].reshape(192,256,1) #add the l channel from the lab space\n",
        "      #image = np.concatenate((image,hsv_img,l), axis =2)  #concatenate into one big image\n",
        "      image2 = image.reshape([1,192,256,3])  #need to add \"1\" to first dimension for future concatenation\n",
        "      \n",
        "      x2 = np.vstack((x2, image2))\n",
        "      #print('#flip the image:')\n",
        "      flip_ud_x2 = np.flipud(image).reshape([1,192,256,3])\n",
        "      x2 = np.vstack((x2, flip_ud_x2))\n",
        "      #plt.imshow(flip_ud_x2[1,:,:,:3])\n",
        "      #plt.show()\n",
        "     \n",
        "      #print('#rotate the image by a random angle')\n",
        "      ra = np.random.random()*360\n",
        "      rotate_x2 = ndimage.rotate(image, ra)\n",
        "      rotate_x2 = skimage.transform.resize(rotate_x2, (1,192,256,3))\n",
        "      x2 = np.vstack((x2, rotate_x2))\n",
        "      #plt.imshow(rotate_x2[0,:,:,:3])\n",
        "      #plt.show()\n",
        "      \n",
        "     \n",
        "      #print('#treat the corresponding label:')\n",
        "      label = lables[i]\n",
        "      label2 = lables[i].reshape([1,192,256,1])\n",
        "      #plt.imshow(label)\n",
        "      #plt.show()\n",
        "     \n",
        "      y2 = np.vstack((y2,label2))\n",
        "      #print('#flip the corresponding label to match the input image:')\n",
        "      flip_ud_y2 = np.flipud(label).reshape([1,192,256,1])\n",
        "      y2 = np.vstack((y2,flip_ud_y2))\n",
        "      #plt.imshow(flip_ud_y2[0,:,:,:])\n",
        "      #plt.show()\n",
        "      \n",
        "      \n",
        "      #print('#rotate the label by the same angle as the image')\n",
        "      rotate_y2 = ndimage.rotate(label, ra)\n",
        "      rotate_y2 = skimage.transform.resize(rotate_y2, (1,192,256,1))\n",
        "      y2 = np.vstack((y2,rotate_y2))\n",
        "      #plt.imshow(rotate_y2) \n",
        "      #plt.show()\n",
        "      i += 1\n",
        "      \n",
        "      #print('#scale images to 0-1 interval')\n",
        "    x2 = x2/255\n",
        "    y2 = y2/255\n",
        "  else:\n",
        "     x2 = features/255\n",
        "     y2 = lables/255\n",
        "  return x2, y2"
      ],
      "execution_count": 0,
      "outputs": []
    },
    {
      "cell_type": "code",
      "metadata": {
        "id": "sj7akIWSM2YT",
        "colab_type": "code",
        "colab": {}
      },
      "source": [
        "class MelHelper():\n",
        "    \n",
        "    def __init__(self):\n",
        "        self.i = 0\n",
        "        \n",
        "        ####Can probably eliminate this part ####\n",
        "        \n",
        "        # Grabs a list of all the data batches for training\n",
        "        #self.all_train_batches = [data_batch1,data_batch2,data_batch3,data_batch4,data_batch5]\n",
        "        # Grabs a list of all the test batches (really just one batch)\n",
        "        #self.test_batch = [test_batch]\n",
        "        \n",
        "        ###eliminate####\n",
        "        \n",
        "        # Intialize some empty variables for later on\n",
        "        self.training_images = None\n",
        "        self.training_labels = None\n",
        "        \n",
        "        self.test_images = None\n",
        "        self.test_labels = None\n",
        "    \n",
        "    def set_up_images(self):\n",
        "        \n",
        "        print(\"Setting Up Training Images and Labels\")\n",
        "       \n",
        "        self.training_images = trainim   #normalize only ->replace with images with training set later\n",
        "                                #self.training_images.reshape(train_len,3,32,32).transpose(0,2,3,1)/255\n",
        "       \n",
        "        self.training_labels = np.around(trainlab) #one_hot_encode(np.hstack([d[b\"labels\"] for d in self.all_train_batches]), 10)\n",
        "        \n",
        "        print(\"Setting Up Test Images and Labels\")\n",
        "        self.test_images, labls = data_augmentations(testim, testlab,0)\n",
        "        \n",
        "        self.test_labels = labls.reshape((labls.shape[0],192,256))\n",
        "       \n",
        "        \n",
        "    def next_batch(self, batch_size):\n",
        "        # Note that the 100 dimension in the reshape call is set by an assumed batch size of 100 - this is now a mistake\n",
        "        xtra = (self.i + batch_size) % len(self.training_images)\n",
        "        if xtra<batch_size and xtra != 0:\n",
        "            x = np.vstack((self.training_images[self.i:self.i+batch_size], self.training_images[0:xtra])) #.reshape(100,32,32,3) \n",
        "            y = np.vstack((self.training_labels[self.i:self.i+batch_size], self.training_labels[0:xtra]))\n",
        "        else:\n",
        "            x = self.training_images[self.i:self.i+batch_size] #.reshape(100,32,32,3) \n",
        "            y = self.training_labels[self.i:self.i+batch_size]\n",
        "        #print(x.shape)\n",
        "        x,y = data_augmentations(x,y,1)\n",
        "        y = y.reshape((y.shape[0],192,256))\n",
        "        self.i = xtra \n",
        "        return x, y"
      ],
      "execution_count": 0,
      "outputs": []
    },
    {
      "cell_type": "code",
      "metadata": {
        "id": "LTmLVENAfNze",
        "colab_type": "code",
        "colab": {}
      },
      "source": [
        "def init_weights(shape):\n",
        "    init_random_dist = tf.truncated_normal(shape, stddev=0.1)\n",
        "    return tf.Variable(init_random_dist)"
      ],
      "execution_count": 0,
      "outputs": []
    },
    {
      "cell_type": "markdown",
      "metadata": {
        "id": "83Yh6X2mfNzg",
        "colab_type": "text"
      },
      "source": [
        "Same as init_weights, but for the biases"
      ]
    },
    {
      "cell_type": "code",
      "metadata": {
        "id": "Dd3vlocsfNzg",
        "colab_type": "code",
        "colab": {}
      },
      "source": [
        "\n",
        "def init_bias(shape):\n",
        "    init_bias_vals = tf.constant(0.1, shape=shape)\n",
        "    return tf.Variable(init_bias_vals)"
      ],
      "execution_count": 0,
      "outputs": []
    },
    {
      "cell_type": "markdown",
      "metadata": {
        "id": "EyF20ufBfNzi",
        "colab_type": "text"
      },
      "source": [
        "Create a 2D convolution using builtin conv2d from TF. From those docs:\n",
        "\n",
        "Computes a 2-D convolution given 4-D `input` and `filter` tensors.\n",
        "\n",
        "Given an input tensor of shape `[batch, in_height, in_width, in_channels]`\n",
        "and a filter / kernel tensor of shape\n",
        "`[filter_height, filter_width, in_channels, out_channels]`, this op\n",
        "performs the following:\n",
        "\n",
        "1. Flattens the filter to a 2-D matrix with shape\n",
        "   `[filter_height * filter_width * in_channels, output_channels]`.\n",
        "2. Extracts image patches from the input tensor to form a *virtual*\n",
        "   tensor of shape `[batch, out_height, out_width,\n",
        "   filter_height * filter_width * in_channels]`.\n",
        "3. For each patch, right-multiplies the filter matrix and the image patch\n",
        "   vector.\n"
      ]
    },
    {
      "cell_type": "code",
      "metadata": {
        "id": "fvrLH9wufNzj",
        "colab_type": "code",
        "colab": {}
      },
      "source": [
        "def conv2d(x, W):\n",
        "    return tf.nn.conv2d(x, W, strides=[1, 1, 1, 1], padding='SAME')"
      ],
      "execution_count": 0,
      "outputs": []
    },
    {
      "cell_type": "code",
      "metadata": {
        "id": "dofb-mrtfNzm",
        "colab_type": "code",
        "colab": {}
      },
      "source": [
        "def deconv2d(x, shape):\n",
        "    return tf.layers.conv2d_transpose(x, shape[3], shape[0:2], padding = 'SAME')"
      ],
      "execution_count": 0,
      "outputs": []
    },
    {
      "cell_type": "code",
      "metadata": {
        "id": "BIO9pWjXfNzp",
        "colab_type": "code",
        "colab": {}
      },
      "source": [
        "def max_pool_2by2(x):\n",
        "    return tf.nn.max_pool(x, ksize=[1, 2, 2, 1], \n",
        "                          strides=[1, 2, 2, 1], padding='SAME')"
      ],
      "execution_count": 0,
      "outputs": []
    },
    {
      "cell_type": "code",
      "metadata": {
        "id": "8uriXIzUNQ8X",
        "colab_type": "code",
        "colab": {}
      },
      "source": [
        "tr = tf.placeholder(tf.bool)"
      ],
      "execution_count": 0,
      "outputs": []
    },
    {
      "cell_type": "markdown",
      "metadata": {
        "id": "9VqEnybqfNzs",
        "colab_type": "text"
      },
      "source": [
        "Using the conv2d function, we'll return an actual convolutional layer here that uses an ReLu activation."
      ]
    },
    {
      "cell_type": "code",
      "metadata": {
        "id": "OS9b-naGfNzt",
        "colab_type": "code",
        "colab": {}
      },
      "source": [
        "def convolutional_layer(input_x, shape):\n",
        "    \n",
        "    W = init_weights(shape)\n",
        "    b = init_bias([shape[3]])\n",
        "    c = conv2d(input_x, W) + b   ###put batch normalization here because it should include the weights\n",
        "    \n",
        "    \n",
        "    \n",
        "    return tf.nn.relu(c)"
      ],
      "execution_count": 0,
      "outputs": []
    },
    {
      "cell_type": "markdown",
      "metadata": {
        "id": "_0-cGJDsfNzu",
        "colab_type": "text"
      },
      "source": [
        "This is a normal fully connected layer"
      ]
    },
    {
      "cell_type": "code",
      "metadata": {
        "id": "w9tiw8fKfNzv",
        "colab_type": "code",
        "colab": {}
      },
      "source": [
        "def normal_full_layer(input_layer, size):\n",
        "    input_size = int(input_layer.get_shape()[1])\n",
        "    W = init_weights([input_size, size])\n",
        "    b = init_bias([size])\n",
        "    return tf.matmul(input_layer, W) + b"
      ],
      "execution_count": 0,
      "outputs": []
    },
    {
      "cell_type": "markdown",
      "metadata": {
        "id": "rBCCy_KLHKTa",
        "colab_type": "text"
      },
      "source": [
        "This is a Deconvolutional Layer"
      ]
    },
    {
      "cell_type": "code",
      "metadata": {
        "id": "RoKldfkxfNzy",
        "colab_type": "code",
        "colab": {}
      },
      "source": [
        "def deconvolutional_layer(input_x, shape):\n",
        "    #W = init_weights(shape)\n",
        "    \n",
        "    b = init_bias([shape[3]])  #draw this out to see if it makes sense\n",
        "    d = deconv2d(input_x, shape) +b\n",
        "    \n",
        "    \n",
        "   \n",
        "    return tf.nn.relu(d)"
      ],
      "execution_count": 0,
      "outputs": []
    },
    {
      "cell_type": "markdown",
      "metadata": {
        "id": "qPfKHCGRHYgg",
        "colab_type": "text"
      },
      "source": [
        "Finally, the output layer"
      ]
    },
    {
      "cell_type": "code",
      "metadata": {
        "id": "I52QXtPPGU1u",
        "colab_type": "code",
        "colab": {}
      },
      "source": [
        "def output_layer(input_x, shape):\n",
        "    #W = init_weights(shape)\n",
        "    \n",
        "    b = init_bias([shape[3]])  \n",
        "    d = deconv2d(input_x, shape) +b\n",
        "    \n",
        "    return tf.nn.sigmoid(d)"
      ],
      "execution_count": 0,
      "outputs": []
    },
    {
      "cell_type": "code",
      "metadata": {
        "id": "38-BkLy-G_q2",
        "colab_type": "code",
        "outputId": "851742d6-8faa-4135-9cc8-1b0cbbbf3ab6",
        "colab": {
          "base_uri": "https://localhost:8080/",
          "height": 34
        }
      },
      "source": [
        "images.shape"
      ],
      "execution_count": 33,
      "outputs": [
        {
          "output_type": "execute_result",
          "data": {
            "text/plain": [
              "(2594, 192, 256, 3)"
            ]
          },
          "metadata": {
            "tags": []
          },
          "execution_count": 33
        }
      ]
    },
    {
      "cell_type": "markdown",
      "metadata": {
        "id": "p2rwibDxfNzz",
        "colab_type": "text"
      },
      "source": [
        "### Placeholders"
      ]
    },
    {
      "cell_type": "code",
      "metadata": {
        "id": "8E82SWUmfNz0",
        "colab_type": "code",
        "colab": {}
      },
      "source": [
        "x = tf.placeholder(tf.float32,shape=[None,192,256,images.shape[3]])  #trace the shaping of these through the code...\n"
      ],
      "execution_count": 0,
      "outputs": []
    },
    {
      "cell_type": "code",
      "metadata": {
        "id": "U2djuEyMfNz1",
        "colab_type": "code",
        "colab": {}
      },
      "source": [
        "\n",
        "y_true = tf.placeholder(tf.float32,shape=[None,192,256])  #this now has every pixel in the ground truth segmentation"
      ],
      "execution_count": 0,
      "outputs": []
    },
    {
      "cell_type": "markdown",
      "metadata": {
        "id": "IzopPGJyfNz5",
        "colab_type": "text"
      },
      "source": [
        "### Layers"
      ]
    },
    {
      "cell_type": "code",
      "metadata": {
        "id": "6YyKmti2fNz5",
        "colab_type": "code",
        "colab": {}
      },
      "source": [
        "x_image = tf.reshape(x,[-1,192,256,images.shape[3]])  #-1 infers the shape of the first dimension (here, the batch size)"
      ],
      "execution_count": 0,
      "outputs": []
    },
    {
      "cell_type": "code",
      "metadata": {
        "id": "uZ_w0c31fJKv",
        "colab_type": "code",
        "colab": {}
      },
      "source": [
        ""
      ],
      "execution_count": 0,
      "outputs": []
    },
    {
      "cell_type": "code",
      "metadata": {
        "id": "B2zOibybfNz7",
        "colab_type": "code",
        "outputId": "74f27024-a82f-42ac-a725-ce858ef9fc56",
        "colab": {
          "base_uri": "https://localhost:8080/",
          "height": 139
        }
      },
      "source": [
        "# Using a 6by6 filter here, used 5by5 in video, you can play around with the filter size\n",
        "# You can change the 32 output, that essentially represents the amount of filters used\n",
        "# You need to pass in 32 to the next input though, the 1 comes from the original input of \n",
        "# a single image.\n",
        "convo_1 = convolutional_layer(x_image,shape=[3,3,images.shape[3],16])\n",
        "bnd1 = tf.layers.batch_normalization(convo_1, training = tr)  ###fixed bug as tr needed to be a bool\n",
        "convo_12 = convolutional_layer(bnd1,shape=[3,3,16,32])\n",
        "bnd12 = tf.layers.batch_normalization(convo_12, training = tr)\n",
        "convo_1_pooling = max_pool_2by2(bnd12)"
      ],
      "execution_count": 37,
      "outputs": [
        {
          "output_type": "stream",
          "text": [
            "WARNING:tensorflow:From <ipython-input-37-adf47883e6ae>:2: batch_normalization (from tensorflow.python.layers.normalization) is deprecated and will be removed in a future version.\n",
            "Instructions for updating:\n",
            "Use keras.layers.BatchNormalization instead.  In particular, `tf.control_dependencies(tf.GraphKeys.UPDATE_OPS)` should not be used (consult the `tf.keras.layers.batch_normalization` documentation).\n",
            "WARNING:tensorflow:From /usr/local/lib/python3.6/dist-packages/tensorflow_core/python/layers/normalization.py:327: Layer.apply (from tensorflow.python.keras.engine.base_layer) is deprecated and will be removed in a future version.\n",
            "Instructions for updating:\n",
            "Please use `layer.__call__` method instead.\n"
          ],
          "name": "stdout"
        }
      ]
    },
    {
      "cell_type": "code",
      "metadata": {
        "id": "V3wMs2SYTVpR",
        "colab_type": "code",
        "colab": {
          "base_uri": "https://localhost:8080/",
          "height": 34
        },
        "outputId": "ed558233-fb2e-4bdf-9580-fe3d23c21daf"
      },
      "source": [
        "print(convo_1_pooling.shape)"
      ],
      "execution_count": 38,
      "outputs": [
        {
          "output_type": "stream",
          "text": [
            "(?, 96, 128, 32)\n"
          ],
          "name": "stdout"
        }
      ]
    },
    {
      "cell_type": "code",
      "metadata": {
        "id": "Tjs326AsfNz9",
        "colab_type": "code",
        "colab": {}
      },
      "source": [
        "# Using a 6by6 filter here, used 5by5 in video, you can play around with the filter size\n",
        "# You can actually change the 64 output if you want, you can think of that as a representation\n",
        "# of the amount of 6by6 filters used.\n",
        "convo_2 = convolutional_layer(convo_1_pooling,shape=[3,3,32,64])\n",
        "bnd2 = tf.layers.batch_normalization(convo_2, training = tr)\n",
        "convo_22 = convolutional_layer(bnd2,shape=[3,3,64,64])\n",
        "bnd22 = tf.layers.batch_normalization(convo_22, training = tr)\n",
        "convo_2_pooling = max_pool_2by2(bnd22)"
      ],
      "execution_count": 0,
      "outputs": []
    },
    {
      "cell_type": "code",
      "metadata": {
        "id": "ZSeZobE1fNz_",
        "colab_type": "code",
        "colab": {
          "base_uri": "https://localhost:8080/",
          "height": 34
        },
        "outputId": "2c3e92e2-d473-4c27-f1cb-582b0a5d56e5"
      },
      "source": [
        "print(convo_2_pooling.shape)"
      ],
      "execution_count": 40,
      "outputs": [
        {
          "output_type": "stream",
          "text": [
            "(?, 48, 64, 64)\n"
          ],
          "name": "stdout"
        }
      ]
    },
    {
      "cell_type": "code",
      "metadata": {
        "id": "g0yF11JTfN0B",
        "colab_type": "code",
        "colab": {}
      },
      "source": [
        "# Using a 6by6 filter here, used 5by5 in video, you can play around with the filter size\n",
        "## You can actually change the 64 output if you want, you can think of that as a representation\n",
        "# of the amount of 6by6 filters used.\n",
        "convo_3 = convolutional_layer(convo_2_pooling,shape=[3,3,64,128])\n",
        "bnd3 = tf.layers.batch_normalization(convo_3, training = tr)\n",
        "convo_32 = convolutional_layer(bnd3,shape=[3,3,128,128])\n",
        "bnd32 = tf.layers.batch_normalization(convo_32, training = tr)\n",
        "convo_3_pooling = max_pool_2by2(bnd32)"
      ],
      "execution_count": 0,
      "outputs": []
    },
    {
      "cell_type": "code",
      "metadata": {
        "id": "F1OFvnKJfN0F",
        "colab_type": "code",
        "colab": {
          "base_uri": "https://localhost:8080/",
          "height": 34
        },
        "outputId": "d731e637-72cb-4379-b87a-23cfded2ec08"
      },
      "source": [
        "print(convo_3_pooling.shape)"
      ],
      "execution_count": 42,
      "outputs": [
        {
          "output_type": "stream",
          "text": [
            "(?, 24, 32, 128)\n"
          ],
          "name": "stdout"
        }
      ]
    },
    {
      "cell_type": "code",
      "metadata": {
        "id": "lK5Ch1YKfN0I",
        "colab_type": "code",
        "colab": {
          "base_uri": "https://localhost:8080/",
          "height": 68
        },
        "outputId": "00d1afa3-d7ef-4a28-833e-a6dc8c4a178b"
      },
      "source": [
        "# Using a 6by6 filter here, used 5by5 in video, you can play around with the filter size\n",
        "# You can actually change the 64 output if you want, you can think of that as a representation\n",
        "# of the amount of 6by6 filters used.\n",
        "hold_prob = tf.placeholder(tf.float32)\n",
        "\n",
        "\n",
        "convo_3_pooling_d = tf.nn.dropout(convo_3_pooling,keep_prob=hold_prob)\n",
        "\n",
        "\n",
        "convo_4 = convolutional_layer(convo_3_pooling_d,shape=[3,3,128,256])\n",
        "bnd4 = tf.layers.batch_normalization(convo_4, training = tr)\n",
        "convo_42 = convolutional_layer(bnd4,shape=[3,3,256,256])\n",
        "bnd42 = tf.layers.batch_normalization(convo_42, training = tr)\n",
        "convo_4_pooling = max_pool_2by2(bnd42)"
      ],
      "execution_count": 43,
      "outputs": [
        {
          "output_type": "stream",
          "text": [
            "WARNING:tensorflow:From <ipython-input-43-c90b4f6b889e>:4: calling dropout (from tensorflow.python.ops.nn_ops) with keep_prob is deprecated and will be removed in a future version.\n",
            "Instructions for updating:\n",
            "Please use `rate` instead of `keep_prob`. Rate should be set to `rate = 1 - keep_prob`.\n"
          ],
          "name": "stdout"
        }
      ]
    },
    {
      "cell_type": "code",
      "metadata": {
        "id": "XLw9sqc3fN0J",
        "colab_type": "code",
        "colab": {
          "base_uri": "https://localhost:8080/",
          "height": 34
        },
        "outputId": "8f784eb4-d805-40db-da7d-473182f86d19"
      },
      "source": [
        "print(convo_4_pooling.shape)"
      ],
      "execution_count": 44,
      "outputs": [
        {
          "output_type": "stream",
          "text": [
            "(?, 12, 16, 256)\n"
          ],
          "name": "stdout"
        }
      ]
    },
    {
      "cell_type": "code",
      "metadata": {
        "id": "mrjbYcoHfN0L",
        "colab_type": "code",
        "colab": {}
      },
      "source": [
        "convo_5 = convolutional_layer(convo_4_pooling,shape=[3,3,256,512])\n",
        "bnd5 = tf.layers.batch_normalization(convo_5, training = tr)\n",
        "#convo_5_pooling = max_pool_2by2(convo_5)"
      ],
      "execution_count": 0,
      "outputs": []
    },
    {
      "cell_type": "code",
      "metadata": {
        "id": "AUhatLBVfN0M",
        "colab_type": "code",
        "colab": {
          "base_uri": "https://localhost:8080/",
          "height": 34
        },
        "outputId": "20dbdccc-3521-4ffc-b278-5305eb6cd624"
      },
      "source": [
        "print(convo_5.shape)"
      ],
      "execution_count": 46,
      "outputs": [
        {
          "output_type": "stream",
          "text": [
            "(?, 12, 16, 512)\n"
          ],
          "name": "stdout"
        }
      ]
    },
    {
      "cell_type": "code",
      "metadata": {
        "id": "2umt_QNxfN0O",
        "colab_type": "code",
        "colab": {}
      },
      "source": [
        "#convo_6 = convolutional_layer(convo_5,shape=[3,3,128,256])\n",
        "#convo_6_pooling = max_pool_2by2(convo_6)"
      ],
      "execution_count": 0,
      "outputs": []
    },
    {
      "cell_type": "code",
      "metadata": {
        "id": "q1RQ1ZCcfN0Q",
        "colab_type": "code",
        "colab": {}
      },
      "source": [
        "#print(convo_6.shape)"
      ],
      "execution_count": 0,
      "outputs": []
    },
    {
      "cell_type": "markdown",
      "metadata": {
        "id": "Ymjgp2j1RCFe",
        "colab_type": "text"
      },
      "source": [
        "Now add deconvolutional layers"
      ]
    },
    {
      "cell_type": "code",
      "metadata": {
        "id": "lnPU1krEfN0S",
        "colab_type": "code",
        "colab": {
          "base_uri": "https://localhost:8080/",
          "height": 85
        },
        "outputId": "13401524-bcf1-4552-f010-42ee96e24489"
      },
      "source": [
        "#import keras\n",
        "deconv_1 = deconvolutional_layer(convo_5, shape = [3,3,512,256])\n",
        "dbnd1 = tf.layers.batch_normalization(deconv_1, training = tr)\n",
        "H = deconv_1.shape[1]\n",
        "W = deconv_1.shape[2]\n",
        "ups_1 = tf.image.resize_nearest_neighbor(dbnd1, size = [2*H,2*W])\n",
        "print(ups_1.shape)"
      ],
      "execution_count": 49,
      "outputs": [
        {
          "output_type": "stream",
          "text": [
            "WARNING:tensorflow:From <ipython-input-26-68bfa008f209>:2: conv2d_transpose (from tensorflow.python.layers.convolutional) is deprecated and will be removed in a future version.\n",
            "Instructions for updating:\n",
            "Use `tf.keras.layers.Conv2DTranspose` instead.\n",
            "(?, 24, 32, 256)\n"
          ],
          "name": "stdout"
        }
      ]
    },
    {
      "cell_type": "code",
      "metadata": {
        "id": "Tebp1_E5vDNk",
        "colab_type": "code",
        "colab": {
          "base_uri": "https://localhost:8080/",
          "height": 34
        },
        "outputId": "1ff625ff-db86-430d-c783-6a44fef67088"
      },
      "source": [
        "deconv_2 = deconvolutional_layer(ups_1, shape = [3,3,256,256])\n",
        "dbnd2 = tf.layers.batch_normalization(deconv_2, training = tr)\n",
        "deconv_22 = deconvolutional_layer(dbnd2, shape = [3,3,256,128])\n",
        "dbnd22 = tf.layers.batch_normalization(deconv_22, training = tr)\n",
        "H = deconv_22.shape[1]\n",
        "W = deconv_22.shape[2]\n",
        "ups_2 = tf.image.resize_nearest_neighbor(dbnd22, size = [2*H,2*W])\n",
        "print(ups_2.shape)"
      ],
      "execution_count": 50,
      "outputs": [
        {
          "output_type": "stream",
          "text": [
            "(?, 48, 64, 128)\n"
          ],
          "name": "stdout"
        }
      ]
    },
    {
      "cell_type": "code",
      "metadata": {
        "id": "hsq6Tw5_wCbW",
        "colab_type": "code",
        "colab": {
          "base_uri": "https://localhost:8080/",
          "height": 34
        },
        "outputId": "35fdab87-fd7c-4bf6-cbd7-f0aa1a8d3846"
      },
      "source": [
        "deconv_3 = deconvolutional_layer(ups_2, shape = [4,4,128,128])\n",
        "dbnd3 = tf.layers.batch_normalization(deconv_3, training = tr)\n",
        "deconv_32 = deconvolutional_layer(dbnd3, shape = [3,3,128,128])\n",
        "dbnd32 = tf.layers.batch_normalization(deconv_32, training = tr)\n",
        "H = deconv_32.shape[1]\n",
        "W = deconv_32.shape[2]\n",
        "ups_3 = tf.image.resize_nearest_neighbor(dbnd32, size = [2*H,2*W])\n",
        "print(ups_3.shape)"
      ],
      "execution_count": 51,
      "outputs": [
        {
          "output_type": "stream",
          "text": [
            "(?, 96, 128, 128)\n"
          ],
          "name": "stdout"
        }
      ]
    },
    {
      "cell_type": "code",
      "metadata": {
        "id": "qk9mtSG50McP",
        "colab_type": "code",
        "colab": {
          "base_uri": "https://localhost:8080/",
          "height": 34
        },
        "outputId": "7e640abd-4868-4df6-d4ec-4d1286b3ad3b"
      },
      "source": [
        "deconv_4 = deconvolutional_layer(ups_3, shape = [3,3,128,64])\n",
        "dbnd4 = tf.layers.batch_normalization(deconv_4, training = tr)\n",
        "deconv_42 = deconvolutional_layer(dbnd4, shape = [3,3,64,32])\n",
        "dbnd42 = tf.layers.batch_normalization(deconv_42, training = tr)\n",
        "H = deconv_42.shape[1]\n",
        "W = deconv_42.shape[2]\n",
        "ups_4 = tf.image.resize_nearest_neighbor(dbnd42, size = [2*H,2*W])\n",
        "print(ups_4.shape)"
      ],
      "execution_count": 52,
      "outputs": [
        {
          "output_type": "stream",
          "text": [
            "(?, 192, 256, 32)\n"
          ],
          "name": "stdout"
        }
      ]
    },
    {
      "cell_type": "markdown",
      "metadata": {
        "id": "O07s0bzd-xdZ",
        "colab_type": "text"
      },
      "source": [
        ""
      ]
    },
    {
      "cell_type": "code",
      "metadata": {
        "id": "PhVu8DWQ0unq",
        "colab_type": "code",
        "colab": {
          "base_uri": "https://localhost:8080/",
          "height": 34
        },
        "outputId": "fe27efc2-3b0c-4bbc-c65b-612ce8613ae0"
      },
      "source": [
        "hold_prob2 = tf.placeholder(tf.float32)\n",
        "\n",
        "ups_4_d = tf.nn.dropout(ups_4,keep_prob=hold_prob2)\n",
        "\n",
        "deconv_5 = deconvolutional_layer(ups_4_d, shape = [3,3,32,16])\n",
        "dbnd5 = tf.layers.batch_normalization(deconv_5, training = tr)\n",
        "print(deconv_5.shape)\n",
        "output = output_layer(dbnd5, shape = [3,3,16,1])\n",
        "#print(deconv_52.shape)\n",
        "#output = tf.image.resize_nearest_neighbor(deconv_52, size = [192,256])   #not sure what sort of output layer is used in the winning submission"
      ],
      "execution_count": 53,
      "outputs": [
        {
          "output_type": "stream",
          "text": [
            "(?, 192, 256, 16)\n"
          ],
          "name": "stdout"
        }
      ]
    },
    {
      "cell_type": "code",
      "metadata": {
        "id": "s6WCdpU44eEe",
        "colab_type": "code",
        "colab": {
          "base_uri": "https://localhost:8080/",
          "height": 34
        },
        "outputId": "dac1ee58-4ed7-467d-91b3-fbf0f4493b03"
      },
      "source": [
        "deconv_5.shape"
      ],
      "execution_count": 54,
      "outputs": [
        {
          "output_type": "execute_result",
          "data": {
            "text/plain": [
              "TensorShape([Dimension(None), Dimension(192), Dimension(256), Dimension(16)])"
            ]
          },
          "metadata": {
            "tags": []
          },
          "execution_count": 54
        }
      ]
    },
    {
      "cell_type": "markdown",
      "metadata": {
        "id": "-Pea4D6rZ8IH",
        "colab_type": "text"
      },
      "source": [
        "The OUTPUT "
      ]
    },
    {
      "cell_type": "code",
      "metadata": {
        "id": "Zk0vZ8CofN0g",
        "colab_type": "code",
        "colab": {}
      },
      "source": [
        "y_pred = output"
      ],
      "execution_count": 0,
      "outputs": []
    },
    {
      "cell_type": "markdown",
      "metadata": {
        "id": "kzfSiPBifN0i",
        "colab_type": "text"
      },
      "source": [
        "### Loss Function"
      ]
    },
    {
      "cell_type": "code",
      "metadata": {
        "id": "gGxLHevsfN0i",
        "colab_type": "code",
        "colab": {}
      },
      "source": [
        "pred = tf.reshape(y_pred, [-1,192,256])\n",
        "true = tf.reshape(y_true, [-1,192,256])\n",
        "          \n",
        "\n",
        "intersect = tf.reduce_sum(tf.cast(true*pred, tf.float32), axis = [1,2])\n",
        "sum_pred = tf.reduce_sum(tf.cast(pred*pred, tf.float32), axis = [1,2])\n",
        "sum_true = tf.reduce_sum(tf.cast(true*true, tf.float32), axis = [1,2])\n",
        "union = sum_pred + sum_true - intersect  \n",
        "jacc = intersect/union\n",
        "cost =  tf.reduce_mean(tf.nn.relu(0.78 - jacc))            \n",
        "\n",
        "\n",
        "#cross_entropy = tf.reduce_mean(tf.nn.sigmoid_cross_entropy_with_logits(labels=y_true,logits=pred))"
      ],
      "execution_count": 0,
      "outputs": []
    },
    {
      "cell_type": "markdown",
      "metadata": {
        "id": "v7_7P_MxxKvn",
        "colab_type": "text"
      },
      "source": [
        "This will be updated to a loss function based on the jaccard index, as in the related publication"
      ]
    },
    {
      "cell_type": "markdown",
      "metadata": {
        "id": "Vd8V8rTafN0l",
        "colab_type": "text"
      },
      "source": [
        "### Optimizer"
      ]
    },
    {
      "cell_type": "code",
      "metadata": {
        "id": "ShpM5aWifN0m",
        "colab_type": "code",
        "colab": {}
      },
      "source": [
        "optimizer = tf.train.AdamOptimizer(learning_rate=0.003)\n",
        "#cost = -tf.reduce_mean(tf.nn.sigmoid(jacc))\n",
        "cost =  tf.reduce_mean(tf.nn.relu(0.78 - jacc))\n",
        "train = optimizer.minimize(cost)   #can this be done for each pixel?"
      ],
      "execution_count": 0,
      "outputs": []
    },
    {
      "cell_type": "markdown",
      "metadata": {
        "id": "2pgeA03VfN0o",
        "colab_type": "text"
      },
      "source": [
        "### Intialize Variables"
      ]
    },
    {
      "cell_type": "code",
      "metadata": {
        "id": "b6p_q-h8fN0p",
        "colab_type": "code",
        "colab": {}
      },
      "source": [
        "init = tf.global_variables_initializer()"
      ],
      "execution_count": 0,
      "outputs": []
    },
    {
      "cell_type": "code",
      "metadata": {
        "id": "IJBnGN8bfN0r",
        "colab_type": "code",
        "colab": {}
      },
      "source": [
        "saver = tf.train.Saver()"
      ],
      "execution_count": 0,
      "outputs": []
    },
    {
      "cell_type": "markdown",
      "metadata": {
        "id": "uJSc-_gtfN0s",
        "colab_type": "text"
      },
      "source": [
        "Session"
      ]
    },
    {
      "cell_type": "code",
      "metadata": {
        "id": "sCgyHGU9fN0s",
        "colab_type": "code",
        "colab": {
          "base_uri": "https://localhost:8080/",
          "height": 51
        },
        "outputId": "b1b31663-de3b-4574-f0eb-146f0241db48"
      },
      "source": [
        "mel = MelHelper()\n",
        "mel.set_up_images()"
      ],
      "execution_count": 60,
      "outputs": [
        {
          "output_type": "stream",
          "text": [
            "Setting Up Training Images and Labels\n",
            "Setting Up Test Images and Labels\n"
          ],
          "name": "stdout"
        }
      ]
    },
    {
      "cell_type": "markdown",
      "metadata": {
        "id": "PHWcy-rIlzf6",
        "colab_type": "text"
      },
      "source": [
        "Train the Model in a Session"
      ]
    },
    {
      "cell_type": "code",
      "metadata": {
        "scrolled": false,
        "id": "LvFchSc7fN0v",
        "colab_type": "code",
        "colab": {
          "base_uri": "https://localhost:8080/",
          "height": 1000
        },
        "outputId": "2d4afe84-efc0-492d-dbe7-1fcc3b6a0099"
      },
      "source": [
        "steps = 10400\n",
        "import time\n",
        "batch_size = 16\n",
        "j_test = []\n",
        "j_train = []\n",
        "\n",
        "#use Cifar_helper to set up next batch\n",
        "with tf.Session() as sess:\n",
        "    print(\"starting init\")\n",
        "    sess.run(init)\n",
        "    print(\"done init\")\n",
        "    \n",
        "    start_time = time.clock()\n",
        "    \n",
        "    for i in range(steps): \n",
        "        batch_x, batch_y = mel.next_batch(batch_size)\n",
        "        \n",
        "        sess.run(train,feed_dict={x:batch_x,y_true:batch_y,hold_prob:0.5,hold_prob2:1.0, tr:True})\n",
        "        \n",
        "        \n",
        "        if i%100 == 0:\n",
        "            print('Currently on step {}'.format(i))\n",
        "            print(\"the time is \", time.clock() - start_time, \"\\n\")\n",
        "             \n",
        "            \n",
        "            pred_o = tf.math.round(pred)\n",
        "            true_o = tf.math.round(true)\n",
        "\n",
        "            #compute the jacc\n",
        "\n",
        "            intersect_o = tf.reduce_sum(tf.cast(true*pred_o, tf.float32), axis = [1,2])\n",
        "            union_o = tf.reduce_sum(tf.cast(pred_o, tf.float32), axis = [1,2]) + tf.reduce_sum(tf.cast(true, tf.float32), axis = [1,2]) - intersect_o  \n",
        "            jacc_o = intersect_o/union_o\n",
        "            pct_o = intersect_o/ tf.reduce_sum(tf.cast(pred_o, tf.float32), axis = [1,2])\n",
        "            pct_n = intersect_o/tf.reduce_sum(tf.cast(true, tf.float32), axis = [1,2]) \n",
        "            \n",
        "            J_out_t = sess.run([jacc_o],feed_dict={x:batch_x,y_true:batch_y,hold_prob:1.0,hold_prob2:1.0,tr:True})\n",
        "            J_train = np.sum(J_out_t[0])/J_out_t[0].shape[0]\n",
        "            j_train += [J_train]\n",
        "            \n",
        "            \n",
        "            print('Avg Jacc is:')\n",
        "            J_out = sess.run([jacc_o, pred_o, true_o, pct_o, pct_n],feed_dict={x:mel.test_images,y_true:mel.test_labels,hold_prob:1.0, hold_prob2:1.0, tr:True})\n",
        "            \n",
        "           \n",
        "            rn = int(np.random.random()*J_out[1].shape[0])\n",
        "            print(\"predicted segmentation \\n\")\n",
        "            plt.imshow(J_out[1][rn, :, :])\n",
        "            plt.show()\n",
        "            print(\"ground_truth segmentation \\n\")\n",
        "            plt.imshow(J_out[2][rn, :, :])\n",
        "            plt.show()\n",
        "            ##it cannot evaluate over the test set, the test set is too large...reduce size of test set (now 5%)\n",
        "            \n",
        "            J_test = np.sum(J_out[0])/J_out[0].shape[0]\n",
        "            j_test += [J_test]\n",
        "            #print(J_out[4], \"\\n J_out 4\")\n",
        "\n",
        "            print(J_test, \" step number is \",  i, \" batch_size is \", batch_size)\n",
        "          \n",
        "           \n",
        "        if i == steps - 1:\n",
        "            pred_mel = sess.run([pred],feed_dict={x:mel.test_images,y_true:mel.test_labels,hold_prob:1.0, hold_prob2:1.0, tr:True})\n",
        "            pred_pigment = sess.run([pred],feed_dict={x:pigs,hold_prob:1.0,hold_prob2:1.0, tr:True})\n",
        "            \n",
        "        save_path = saver.save(sess, \"./model.ckpt\")\n",
        "        \n",
        "        "
      ],
      "execution_count": 0,
      "outputs": [
        {
          "output_type": "stream",
          "text": [
            "starting init\n",
            "done init\n",
            "Currently on step 0\n",
            "the time is  10.318522000000002 \n",
            "\n",
            "Avg Jacc is:\n",
            "predicted segmentation \n",
            "\n"
          ],
          "name": "stdout"
        },
        {
          "output_type": "display_data",
          "data": {
            "image/png": "[encoded data removed]",
            "text/plain": [
              "<Figure size 432x288 with 1 Axes>"
            ]
          },
          "metadata": {
            "tags": []
          }
        },
        {
          "output_type": "stream",
          "text": [
            "ground_truth segmentation \n",
            "\n"
          ],
          "name": "stdout"
        },
        {
          "output_type": "display_data",
          "data": {
            "image/png": "[encoded data removed]",
            "text/plain": [
              "<Figure size 432x288 with 1 Axes>"
            ]
          },
          "metadata": {
            "tags": []
          }
        },
        {
          "output_type": "stream",
          "text": [
            "0.18537731170654298  step number is  0  batch_size is  16\n",
            "Currently on step 100\n",
            "the time is  656.8076010000001 \n",
            "\n",
            "Avg Jacc is:\n",
            "predicted segmentation \n",
            "\n"
          ],
          "name": "stdout"
        },
        {
          "output_type": "display_data",
          "data": {
            "image/png": "[encoded data removed]",
            "text/plain": [
              "<Figure size 432x288 with 1 Axes>"
            ]
          },
          "metadata": {
            "tags": []
          }
        },
        {
          "output_type": "stream",
          "text": [
            "ground_truth segmentation \n",
            "\n"
          ],
          "name": "stdout"
        },
        {
          "output_type": "display_data",
          "data": {
            "image/png": "[encoded data removed]",
            "text/plain": [
              "<Figure size 432x288 with 1 Axes>"
            ]
          },
          "metadata": {
            "tags": []
          }
        },
        {
          "output_type": "stream",
          "text": [
            "0.4841758728027344  step number is  100  batch_size is  16\n",
            "Currently on step 200\n",
            "the time is  1299.305646 \n",
            "\n",
            "Avg Jacc is:\n",
            "predicted segmentation \n",
            "\n"
          ],
          "name": "stdout"
        },
        {
          "output_type": "display_data",
          "data": {
            "image/png": "[encoded data removed]",
            "text/plain": [
              "<Figure size 432x288 with 1 Axes>"
            ]
          },
          "metadata": {
            "tags": []
          }
        },
        {
          "output_type": "stream",
          "text": [
            "ground_truth segmentation \n",
            "\n"
          ],
          "name": "stdout"
        },
        {
          "output_type": "display_data",
          "data": {
            "image/png": "[encoded data removed]",
            "text/plain": [
              "<Figure size 432x288 with 1 Axes>"
            ]
          },
          "metadata": {
            "tags": []
          }
        },
        {
          "output_type": "stream",
          "text": [
            "0.43660187354454627  step number is  200  batch_size is  16\n",
            "Currently on step 300\n",
            "the time is  1938.279907 \n",
            "\n",
            "Avg Jacc is:\n",
            "predicted segmentation \n",
            "\n"
          ],
          "name": "stdout"
        },
        {
          "output_type": "display_data",
          "data": {
            "image/png": "[encoded data removed]",
            "text/plain": [
              "<Figure size 432x288 with 1 Axes>"
            ]
          },
          "metadata": {
            "tags": []
          }
        },
        {
          "output_type": "stream",
          "text": [
            "ground_truth segmentation \n",
            "\n"
          ],
          "name": "stdout"
        },
        {
          "output_type": "display_data",
          "data": {
            "image/png": "[encoded data removed]",
            "text/plain": [
              "<Figure size 432x288 with 1 Axes>"
            ]
          },
          "metadata": {
            "tags": []
          }
        },
        {
          "output_type": "stream",
          "text": [
            "0.46476261432354266  step number is  300  batch_size is  16\n",
            "Currently on step 400\n",
            "the time is  2576.661307 \n",
            "\n",
            "Avg Jacc is:\n",
            "predicted segmentation \n",
            "\n"
          ],
          "name": "stdout"
        },
        {
          "output_type": "display_data",
          "data": {
            "image/png": "[encoded data removed]",
            "text/plain": [
              "<Figure size 432x288 with 1 Axes>"
            ]
          },
          "metadata": {
            "tags": []
          }
        },
        {
          "output_type": "stream",
          "text": [
            "ground_truth segmentation \n",
            "\n"
          ],
          "name": "stdout"
        },
        {
          "output_type": "display_data",
          "data": {
            "image/png": "[encoded data removed]",
            "text/plain": [
              "<Figure size 432x288 with 1 Axes>"
            ]
          },
          "metadata": {
            "tags": []
          }
        },
        {
          "output_type": "stream",
          "text": [
            "0.4901076390193059  step number is  400  batch_size is  16\n",
            "Currently on step 500\n",
            "the time is  3217.398484 \n",
            "\n",
            "Avg Jacc is:\n",
            "predicted segmentation \n",
            "\n"
          ],
          "name": "stdout"
        },
        {
          "output_type": "display_data",
          "data": {
            "image/png": "[encoded data removed]",
            "text/plain": [
              "<Figure size 432x288 with 1 Axes>"
            ]
          },
          "metadata": {
            "tags": []
          }
        },
        {
          "output_type": "stream",
          "text": [
            "ground_truth segmentation \n",
            "\n"
          ],
          "name": "stdout"
        },
        {
          "output_type": "display_data",
          "data": {
            "image/png": "[encoded data removed]",
            "text/plain": [
              "<Figure size 432x288 with 1 Axes>"
            ]
          },
          "metadata": {
            "tags": []
          }
        },
        {
          "output_type": "stream",
          "text": [
            "0.5069848280686599  step number is  500  batch_size is  16\n",
            "Currently on step 600\n",
            "the time is  3860.825839 \n",
            "\n",
            "Avg Jacc is:\n",
            "predicted segmentation \n",
            "\n"
          ],
          "name": "stdout"
        },
        {
          "output_type": "display_data",
          "data": {
            "image/png": "[encoded data removed]",
            "text/plain": [
              "<Figure size 432x288 with 1 Axes>"
            ]
          },
          "metadata": {
            "tags": []
          }
        },
        {
          "output_type": "stream",
          "text": [
            "ground_truth segmentation \n",
            "\n"
          ],
          "name": "stdout"
        },
        {
          "output_type": "display_data",
          "data": {
            "image/png": "[encoded data removed]",
            "text/plain": [
              "<Figure size 432x288 with 1 Axes>"
            ]
          },
          "metadata": {
            "tags": []
          }
        },
        {
          "output_type": "stream",
          "text": [
            "0.53710203904372  step number is  600  batch_size is  16\n",
            "Currently on step 700\n",
            "the time is  4498.856900999999 \n",
            "\n",
            "Avg Jacc is:\n",
            "predicted segmentation \n",
            "\n"
          ],
          "name": "stdout"
        },
        {
          "output_type": "display_data",
          "data": {
            "image/png": "[encoded data removed]",
            "text/plain": [
              "<Figure size 432x288 with 1 Axes>"
            ]
          },
          "metadata": {
            "tags": []
          }
        },
        {
          "output_type": "stream",
          "text": [
            "ground_truth segmentation \n",
            "\n"
          ],
          "name": "stdout"
        },
        {
          "output_type": "display_data",
          "data": {
            "image/png": "[encoded data removed]",
            "text/plain": [
              "<Figure size 432x288 with 1 Axes>"
            ]
          },
          "metadata": {
            "tags": []
          }
        },
        {
          "output_type": "stream",
          "text": [
            "0.5393905639648438  step number is  700  batch_size is  16\n",
            "Currently on step 800\n",
            "the time is  5131.2411059999995 \n",
            "\n",
            "Avg Jacc is:\n",
            "predicted segmentation \n",
            "\n"
          ],
          "name": "stdout"
        },
        {
          "output_type": "display_data",
          "data": {
            "image/png": "[encoded data removed]",
            "text/plain": [
              "<Figure size 432x288 with 1 Axes>"
            ]
          },
          "metadata": {
            "tags": []
          }
        },
        {
          "output_type": "stream",
          "text": [
            "ground_truth segmentation \n",
            "\n"
          ],
          "name": "stdout"
        },
        {
          "output_type": "display_data",
          "data": {
            "image/png": "[encoded data removed]",
            "text/plain": [
              "<Figure size 432x288 with 1 Axes>"
            ]
          },
          "metadata": {
            "tags": []
          }
        },
        {
          "output_type": "stream",
          "text": [
            "0.558883549616887  step number is  800  batch_size is  16\n",
            "Currently on step 900\n",
            "the time is  5766.049889999999 \n",
            "\n",
            "Avg Jacc is:\n",
            "predicted segmentation \n",
            "\n"
          ],
          "name": "stdout"
        },
        {
          "output_type": "display_data",
          "data": {
            "image/png": "[encoded data removed]",
            "text/plain": [
              "<Figure size 432x288 with 1 Axes>"
            ]
          },
          "metadata": {
            "tags": []
          }
        },
        {
          "output_type": "stream",
          "text": [
            "ground_truth segmentation \n",
            "\n"
          ],
          "name": "stdout"
        },
        {
          "output_type": "display_data",
          "data": {
            "image/png": "[encoded data removed]",
            "text/plain": [
              "<Figure size 432x288 with 1 Axes>"
            ]
          },
          "metadata": {
            "tags": []
          }
        },
        {
          "output_type": "stream",
          "text": [
            "0.5352313701923077  step number is  900  batch_size is  16\n",
            "Currently on step 1000\n",
            "the time is  6407.809738999999 \n",
            "\n",
            "Avg Jacc is:\n",
            "predicted segmentation \n",
            "\n"
          ],
          "name": "stdout"
        },
        {
          "output_type": "display_data",
          "data": {
            "image/png": "[encoded data removed]",
            "text/plain": [
              "<Figure size 432x288 with 1 Axes>"
            ]
          },
          "metadata": {
            "tags": []
          }
        },
        {
          "output_type": "stream",
          "text": [
            "ground_truth segmentation \n",
            "\n"
          ],
          "name": "stdout"
        },
        {
          "output_type": "display_data",
          "data": {
            "image/png": "[encoded data removed]",
            "text/plain": [
              "<Figure size 432x288 with 1 Axes>"
            ]
          },
          "metadata": {
            "tags": []
          }
        },
        {
          "output_type": "stream",
          "text": [
            "0.515608156644381  step number is  1000  batch_size is  16\n",
            "Currently on step 1100\n",
            "the time is  7050.587366999999 \n",
            "\n",
            "Avg Jacc is:\n",
            "predicted segmentation \n",
            "\n"
          ],
          "name": "stdout"
        },
        {
          "output_type": "display_data",
          "data": {
            "image/png": "[encoded data removed]",
            "text/plain": [
              "<Figure size 432x288 with 1 Axes>"
            ]
          },
          "metadata": {
            "tags": []
          }
        },
        {
          "output_type": "stream",
          "text": [
            "ground_truth segmentation \n",
            "\n"
          ],
          "name": "stdout"
        },
        {
          "output_type": "display_data",
          "data": {
            "image/png": "[encoded data removed]",
            "text/plain": [
              "<Figure size 432x288 with 1 Axes>"
            ]
          },
          "metadata": {
            "tags": []
          }
        },
        {
          "output_type": "stream",
          "text": [
            "0.5144485473632813  step number is  1100  batch_size is  16\n",
            "Currently on step 1200\n",
            "the time is  7695.288876 \n",
            "\n",
            "Avg Jacc is:\n",
            "predicted segmentation \n",
            "\n"
          ],
          "name": "stdout"
        },
        {
          "output_type": "display_data",
          "data": {
            "image/png": "[encoded data removed]",
            "text/plain": [
              "<Figure size 432x288 with 1 Axes>"
            ]
          },
          "metadata": {
            "tags": []
          }
        },
        {
          "output_type": "stream",
          "text": [
            "ground_truth segmentation \n",
            "\n"
          ],
          "name": "stdout"
        },
        {
          "output_type": "display_data",
          "data": {
            "image/png": "[encoded data removed]",
            "text/plain": [
              "<Figure size 432x288 with 1 Axes>"
            ]
          },
          "metadata": {
            "tags": []
          }
        },
        {
          "output_type": "stream",
          "text": [
            "0.5636426485501803  step number is  1200  batch_size is  16\n",
            "Currently on step 1300\n",
            "the time is  8337.299099 \n",
            "\n",
            "Avg Jacc is:\n",
            "predicted segmentation \n",
            "\n"
          ],
          "name": "stdout"
        },
        {
          "output_type": "display_data",
          "data": {
            "image/png": "[encoded data removed]",
            "text/plain": [
              "<Figure size 432x288 with 1 Axes>"
            ]
          },
          "metadata": {
            "tags": []
          }
        },
        {
          "output_type": "stream",
          "text": [
            "ground_truth segmentation \n",
            "\n"
          ],
          "name": "stdout"
        },
        {
          "output_type": "display_data",
          "data": {
            "image/png": "[encoded data removed]",
            "text/plain": [
              "<Figure size 432x288 with 1 Axes>"
            ]
          },
          "metadata": {
            "tags": []
          }
        },
        {
          "output_type": "stream",
          "text": [
            "0.4886448786808894  step number is  1300  batch_size is  16\n",
            "Currently on step 1400\n",
            "the time is  8979.084023 \n",
            "\n",
            "Avg Jacc is:\n",
            "predicted segmentation \n",
            "\n"
          ],
          "name": "stdout"
        },
        {
          "output_type": "display_data",
          "data": {
            "image/png": "[encoded data removed]",
            "text/plain": [
              "<Figure size 432x288 with 1 Axes>"
            ]
          },
          "metadata": {
            "tags": []
          }
        },
        {
          "output_type": "stream",
          "text": [
            "ground_truth segmentation \n",
            "\n"
          ],
          "name": "stdout"
        },
        {
          "output_type": "display_data",
          "data": {
            "image/png": "[encoded data removed]",
            "text/plain": [
              "<Figure size 432x288 with 1 Axes>"
            ]
          },
          "metadata": {
            "tags": []
          }
        },
        {
          "output_type": "stream",
          "text": [
            "0.459559807410607  step number is  1400  batch_size is  16\n",
            "Currently on step 1500\n",
            "the time is  9626.189425999999 \n",
            "\n",
            "Avg Jacc is:\n",
            "predicted segmentation \n",
            "\n"
          ],
          "name": "stdout"
        },
        {
          "output_type": "display_data",
          "data": {
            "image/png": "[encoded data removed]",
            "text/plain": [
              "<Figure size 432x288 with 1 Axes>"
            ]
          },
          "metadata": {
            "tags": []
          }
        },
        {
          "output_type": "stream",
          "text": [
            "ground_truth segmentation \n",
            "\n"
          ],
          "name": "stdout"
        },
        {
          "output_type": "display_data",
          "data": {
            "image/png": "[encoded data removed]",
            "text/plain": [
              "<Figure size 432x288 with 1 Axes>"
            ]
          },
          "metadata": {
            "tags": []
          }
        },
        {
          "output_type": "stream",
          "text": [
            "0.4681906186617338  step number is  1500  batch_size is  16\n",
            "Currently on step 1600\n",
            "the time is  10261.779166999999 \n",
            "\n",
            "Avg Jacc is:\n",
            "predicted segmentation \n",
            "\n"
          ],
          "name": "stdout"
        },
        {
          "output_type": "display_data",
          "data": {
            "image/png": "[encoded data removed]",
            "text/plain": [
              "<Figure size 432x288 with 1 Axes>"
            ]
          },
          "metadata": {
            "tags": []
          }
        },
        {
          "output_type": "stream",
          "text": [
            "ground_truth segmentation \n",
            "\n"
          ],
          "name": "stdout"
        },
        {
          "output_type": "display_data",
          "data": {
            "image/png": "[encoded data removed]",
            "text/plain": [
              "<Figure size 432x288 with 1 Axes>"
            ]
          },
          "metadata": {
            "tags": []
          }
        },
        {
          "output_type": "stream",
          "text": [
            "0.49468665489783653  step number is  1600  batch_size is  16\n",
            "Currently on step 1700\n",
            "the time is  10910.418797 \n",
            "\n",
            "Avg Jacc is:\n",
            "predicted segmentation \n",
            "\n"
          ],
          "name": "stdout"
        },
        {
          "output_type": "display_data",
          "data": {
            "image/png": "[encoded data removed]",
            "text/plain": [
              "<Figure size 432x288 with 1 Axes>"
            ]
          },
          "metadata": {
            "tags": []
          }
        },
        {
          "output_type": "stream",
          "text": [
            "ground_truth segmentation \n",
            "\n"
          ],
          "name": "stdout"
        },
        {
          "output_type": "display_data",
          "data": {
            "image/png": "[encoded data removed]",
            "text/plain": [
              "<Figure size 432x288 with 1 Axes>"
            ]
          },
          "metadata": {
            "tags": []
          }
        },
        {
          "output_type": "stream",
          "text": [
            "0.5106457050030048  step number is  1700  batch_size is  16\n",
            "Currently on step 1800\n",
            "the time is  11566.212797 \n",
            "\n",
            "Avg Jacc is:\n",
            "predicted segmentation \n",
            "\n"
          ],
          "name": "stdout"
        },
        {
          "output_type": "display_data",
          "data": {
            "image/png": "[encoded data removed]",
            "text/plain": [
              "<Figure size 432x288 with 1 Axes>"
            ]
          },
          "metadata": {
            "tags": []
          }
        },
        {
          "output_type": "stream",
          "text": [
            "ground_truth segmentation \n",
            "\n"
          ],
          "name": "stdout"
        },
        {
          "output_type": "display_data",
          "data": {
            "image/png": "[encoded data removed]",
            "text/plain": [
              "<Figure size 432x288 with 1 Axes>"
            ]
          },
          "metadata": {
            "tags": []
          }
        },
        {
          "output_type": "stream",
          "text": [
            "0.5542134211613582  step number is  1800  batch_size is  16\n",
            "Currently on step 1900\n",
            "the time is  12227.617661 \n",
            "\n",
            "Avg Jacc is:\n",
            "predicted segmentation \n",
            "\n"
          ],
          "name": "stdout"
        },
        {
          "output_type": "display_data",
          "data": {
            "image/png": "[encoded data removed]",
            "text/plain": [
              "<Figure size 432x288 with 1 Axes>"
            ]
          },
          "metadata": {
            "tags": []
          }
        },
        {
          "output_type": "stream",
          "text": [
            "ground_truth segmentation \n",
            "\n"
          ],
          "name": "stdout"
        },
        {
          "output_type": "display_data",
          "data": {
            "image/png": "[encoded data removed]",
            "text/plain": [
              "<Figure size 432x288 with 1 Axes>"
            ]
          },
          "metadata": {
            "tags": []
          }
        },
        {
          "output_type": "stream",
          "text": [
            "0.4823785048264724  step number is  1900  batch_size is  16\n",
            "Currently on step 2000\n",
            "the time is  12911.473726999999 \n",
            "\n",
            "Avg Jacc is:\n",
            "predicted segmentation \n",
            "\n"
          ],
          "name": "stdout"
        },
        {
          "output_type": "display_data",
          "data": {
            "image/png": "[encoded data removed]",
            "text/plain": [
              "<Figure size 432x288 with 1 Axes>"
            ]
          },
          "metadata": {
            "tags": []
          }
        },
        {
          "output_type": "stream",
          "text": [
            "ground_truth segmentation \n",
            "\n"
          ],
          "name": "stdout"
        },
        {
          "output_type": "display_data",
          "data": {
            "image/png": "[encoded data removed]",
            "text/plain": [
              "<Figure size 432x288 with 1 Axes>"
            ]
          },
          "metadata": {
            "tags": []
          }
        },
        {
          "output_type": "stream",
          "text": [
            "0.5316430311936599  step number is  2000  batch_size is  16\n",
            "Currently on step 2100\n",
            "the time is  13563.932869999999 \n",
            "\n",
            "Avg Jacc is:\n",
            "predicted segmentation \n",
            "\n"
          ],
          "name": "stdout"
        },
        {
          "output_type": "display_data",
          "data": {
            "image/png": "[encoded data removed]",
            "text/plain": [
              "<Figure size 432x288 with 1 Axes>"
            ]
          },
          "metadata": {
            "tags": []
          }
        },
        {
          "output_type": "stream",
          "text": [
            "ground_truth segmentation \n",
            "\n"
          ],
          "name": "stdout"
        },
        {
          "output_type": "display_data",
          "data": {
            "image/png": "[encoded data removed]",
            "text/plain": [
              "<Figure size 432x288 with 1 Axes>"
            ]
          },
          "metadata": {
            "tags": []
          }
        },
        {
          "output_type": "stream",
          "text": [
            "0.5423531165489783  step number is  2100  batch_size is  16\n",
            "Currently on step 2200\n",
            "the time is  14207.929925999999 \n",
            "\n",
            "Avg Jacc is:\n",
            "predicted segmentation \n",
            "\n"
          ],
          "name": "stdout"
        },
        {
          "output_type": "display_data",
          "data": {
            "image/png": "[encoded data removed]",
            "text/plain": [
              "<Figure size 432x288 with 1 Axes>"
            ]
          },
          "metadata": {
            "tags": []
          }
        },
        {
          "output_type": "stream",
          "text": [
            "ground_truth segmentation \n",
            "\n"
          ],
          "name": "stdout"
        },
        {
          "output_type": "display_data",
          "data": {
            "image/png": "[encoded data removed]",
            "text/plain": [
              "<Figure size 432x288 with 1 Axes>"
            ]
          },
          "metadata": {
            "tags": []
          }
        },
        {
          "output_type": "stream",
          "text": [
            "0.5364329411433293  step number is  2200  batch_size is  16\n",
            "Currently on step 2300\n",
            "the time is  14850.015849 \n",
            "\n",
            "Avg Jacc is:\n",
            "predicted segmentation \n",
            "\n"
          ],
          "name": "stdout"
        },
        {
          "output_type": "display_data",
          "data": {
            "image/png": "[encoded data removed]",
            "text/plain": [
              "<Figure size 432x288 with 1 Axes>"
            ]
          },
          "metadata": {
            "tags": []
          }
        },
        {
          "output_type": "stream",
          "text": [
            "ground_truth segmentation \n",
            "\n"
          ],
          "name": "stdout"
        },
        {
          "output_type": "display_data",
          "data": {
            "image/png": "[encoded data removed]",
            "text/plain": [
              "<Figure size 432x288 with 1 Axes>"
            ]
          },
          "metadata": {
            "tags": []
          }
        },
        {
          "output_type": "stream",
          "text": [
            "0.5570301936222957  step number is  2300  batch_size is  16\n",
            "Currently on step 2400\n",
            "the time is  15488.848324999999 \n",
            "\n",
            "Avg Jacc is:\n",
            "predicted segmentation \n",
            "\n"
          ],
          "name": "stdout"
        },
        {
          "output_type": "display_data",
          "data": {
            "image/png": "[encoded data removed]",
            "text/plain": [
              "<Figure size 432x288 with 1 Axes>"
            ]
          },
          "metadata": {
            "tags": []
          }
        },
        {
          "output_type": "stream",
          "text": [
            "ground_truth segmentation \n",
            "\n"
          ],
          "name": "stdout"
        },
        {
          "output_type": "display_data",
          "data": {
            "image/png": "[encoded data removed]",
            "text/plain": [
              "<Figure size 432x288 with 1 Axes>"
            ]
          },
          "metadata": {
            "tags": []
          }
        },
        {
          "output_type": "stream",
          "text": [
            "0.4982979994553786  step number is  2400  batch_size is  16\n",
            "Currently on step 2500\n",
            "the time is  16128.768656 \n",
            "\n",
            "Avg Jacc is:\n",
            "predicted segmentation \n",
            "\n"
          ],
          "name": "stdout"
        },
        {
          "output_type": "display_data",
          "data": {
            "image/png": "[encoded data removed]",
            "text/plain": [
              "<Figure size 432x288 with 1 Axes>"
            ]
          },
          "metadata": {
            "tags": []
          }
        },
        {
          "output_type": "stream",
          "text": [
            "ground_truth segmentation \n",
            "\n"
          ],
          "name": "stdout"
        },
        {
          "output_type": "display_data",
          "data": {
            "image/png": "[encoded data removed]",
            "text/plain": [
              "<Figure size 432x288 with 1 Axes>"
            ]
          },
          "metadata": {
            "tags": []
          }
        },
        {
          "output_type": "stream",
          "text": [
            "0.5407344524676984  step number is  2500  batch_size is  16\n",
            "Currently on step 2600\n",
            "the time is  16795.123494000003 \n",
            "\n",
            "Avg Jacc is:\n",
            "predicted segmentation \n",
            "\n"
          ],
          "name": "stdout"
        },
        {
          "output_type": "display_data",
          "data": {
            "image/png": "[encoded data removed]",
            "text/plain": [
              "<Figure size 432x288 with 1 Axes>"
            ]
          },
          "metadata": {
            "tags": []
          }
        },
        {
          "output_type": "stream",
          "text": [
            "ground_truth segmentation \n",
            "\n"
          ],
          "name": "stdout"
        },
        {
          "output_type": "display_data",
          "data": {
            "image/png": "[encoded data removed]",
            "text/plain": [
              "<Figure size 432x288 with 1 Axes>"
            ]
          },
          "metadata": {
            "tags": []
          }
        },
        {
          "output_type": "stream",
          "text": [
            "0.5429337721604567  step number is  2600  batch_size is  16\n",
            "Currently on step 2700\n",
            "the time is  17458.262202 \n",
            "\n",
            "Avg Jacc is:\n",
            "predicted segmentation \n",
            "\n"
          ],
          "name": "stdout"
        },
        {
          "output_type": "display_data",
          "data": {
            "image/png": "[encoded data removed]",
            "text/plain": [
              "<Figure size 432x288 with 1 Axes>"
            ]
          },
          "metadata": {
            "tags": []
          }
        },
        {
          "output_type": "stream",
          "text": [
            "ground_truth segmentation \n",
            "\n"
          ],
          "name": "stdout"
        },
        {
          "output_type": "display_data",
          "data": {
            "image/png": "[encoded data removed]",
            "text/plain": [
              "<Figure size 432x288 with 1 Axes>"
            ]
          },
          "metadata": {
            "tags": []
          }
        },
        {
          "output_type": "stream",
          "text": [
            "0.5130766061636117  step number is  2700  batch_size is  16\n",
            "Currently on step 2800\n",
            "the time is  18115.378361000003 \n",
            "\n",
            "Avg Jacc is:\n",
            "predicted segmentation \n",
            "\n"
          ],
          "name": "stdout"
        },
        {
          "output_type": "display_data",
          "data": {
            "image/png": "[encoded data removed]",
            "text/plain": [
              "<Figure size 432x288 with 1 Axes>"
            ]
          },
          "metadata": {
            "tags": []
          }
        },
        {
          "output_type": "stream",
          "text": [
            "ground_truth segmentation \n",
            "\n"
          ],
          "name": "stdout"
        },
        {
          "output_type": "display_data",
          "data": {
            "image/png": "[encoded data removed]",
            "text/plain": [
              "<Figure size 432x288 with 1 Axes>"
            ]
          },
          "metadata": {
            "tags": []
          }
        },
        {
          "output_type": "stream",
          "text": [
            "0.5136468740609976  step number is  2800  batch_size is  16\n",
            "Currently on step 2900\n",
            "the time is  18771.312354 \n",
            "\n",
            "Avg Jacc is:\n",
            "predicted segmentation \n",
            "\n"
          ],
          "name": "stdout"
        },
        {
          "output_type": "display_data",
          "data": {
            "image/png": "[encoded data removed]",
            "text/plain": [
              "<Figure size 432x288 with 1 Axes>"
            ]
          },
          "metadata": {
            "tags": []
          }
        },
        {
          "output_type": "stream",
          "text": [
            "ground_truth segmentation \n",
            "\n"
          ],
          "name": "stdout"
        },
        {
          "output_type": "display_data",
          "data": {
            "image/png": "[encoded data removed]",
            "text/plain": [
              "<Figure size 432x288 with 1 Axes>"
            ]
          },
          "metadata": {
            "tags": []
          }
        },
        {
          "output_type": "stream",
          "text": [
            "0.5307831397423377  step number is  2900  batch_size is  16\n",
            "Currently on step 3000\n",
            "the time is  19429.258427 \n",
            "\n",
            "Avg Jacc is:\n",
            "predicted segmentation \n",
            "\n"
          ],
          "name": "stdout"
        },
        {
          "output_type": "display_data",
          "data": {
            "image/png": "[encoded data removed]",
            "text/plain": [
              "<Figure size 432x288 with 1 Axes>"
            ]
          },
          "metadata": {
            "tags": []
          }
        },
        {
          "output_type": "stream",
          "text": [
            "ground_truth segmentation \n",
            "\n"
          ],
          "name": "stdout"
        },
        {
          "output_type": "display_data",
          "data": {
            "image/png": "[encoded data removed]",
            "text/plain": [
              "<Figure size 432x288 with 1 Axes>"
            ]
          },
          "metadata": {
            "tags": []
          }
        },
        {
          "output_type": "stream",
          "text": [
            "0.5651985755333534  step number is  3000  batch_size is  16\n",
            "Currently on step 3100\n",
            "the time is  20081.081661 \n",
            "\n",
            "Avg Jacc is:\n",
            "predicted segmentation \n",
            "\n"
          ],
          "name": "stdout"
        },
        {
          "output_type": "display_data",
          "data": {
            "image/png": "[encoded data removed]",
            "text/plain": [
              "<Figure size 432x288 with 1 Axes>"
            ]
          },
          "metadata": {
            "tags": []
          }
        },
        {
          "output_type": "stream",
          "text": [
            "ground_truth segmentation \n",
            "\n"
          ],
          "name": "stdout"
        },
        {
          "output_type": "display_data",
          "data": {
            "image/png": "[encoded data removed]",
            "text/plain": [
              "<Figure size 432x288 with 1 Axes>"
            ]
          },
          "metadata": {
            "tags": []
          }
        },
        {
          "output_type": "stream",
          "text": [
            "0.5301786569448618  step number is  3100  batch_size is  16\n",
            "Currently on step 3200\n",
            "the time is  20744.91762 \n",
            "\n",
            "Avg Jacc is:\n",
            "predicted segmentation \n",
            "\n"
          ],
          "name": "stdout"
        },
        {
          "output_type": "display_data",
          "data": {
            "image/png": "[encoded data removed]",
            "text/plain": [
              "<Figure size 432x288 with 1 Axes>"
            ]
          },
          "metadata": {
            "tags": []
          }
        },
        {
          "output_type": "stream",
          "text": [
            "ground_truth segmentation \n",
            "\n"
          ],
          "name": "stdout"
        },
        {
          "output_type": "display_data",
          "data": {
            "image/png": "[encoded data removed]",
            "text/plain": [
              "<Figure size 432x288 with 1 Axes>"
            ]
          },
          "metadata": {
            "tags": []
          }
        },
        {
          "output_type": "stream",
          "text": [
            "0.5872383117675781  step number is  3200  batch_size is  16\n",
            "Currently on step 3300\n",
            "the time is  21407.051274 \n",
            "\n",
            "Avg Jacc is:\n",
            "predicted segmentation \n",
            "\n"
          ],
          "name": "stdout"
        },
        {
          "output_type": "display_data",
          "data": {
            "image/png": "[encoded data removed]",
            "text/plain": [
              "<Figure size 432x288 with 1 Axes>"
            ]
          },
          "metadata": {
            "tags": []
          }
        },
        {
          "output_type": "stream",
          "text": [
            "ground_truth segmentation \n",
            "\n"
          ],
          "name": "stdout"
        },
        {
          "output_type": "display_data",
          "data": {
            "image/png": "[encoded data removed]",
            "text/plain": [
              "<Figure size 432x288 with 1 Axes>"
            ]
          },
          "metadata": {
            "tags": []
          }
        },
        {
          "output_type": "stream",
          "text": [
            "0.5159569960374099  step number is  3300  batch_size is  16\n",
            "Currently on step 3400\n",
            "the time is  22059.523153000002 \n",
            "\n",
            "Avg Jacc is:\n",
            "predicted segmentation \n",
            "\n"
          ],
          "name": "stdout"
        },
        {
          "output_type": "display_data",
          "data": {
            "image/png": "[encoded data removed]",
            "text/plain": [
              "<Figure size 432x288 with 1 Axes>"
            ]
          },
          "metadata": {
            "tags": []
          }
        },
        {
          "output_type": "stream",
          "text": [
            "ground_truth segmentation \n",
            "\n"
          ],
          "name": "stdout"
        },
        {
          "output_type": "display_data",
          "data": {
            "image/png": "[encoded data removed]",
            "text/plain": [
              "<Figure size 432x288 with 1 Axes>"
            ]
          },
          "metadata": {
            "tags": []
          }
        },
        {
          "output_type": "stream",
          "text": [
            "0.5504358144906851  step number is  3400  batch_size is  16\n",
            "Currently on step 3500\n",
            "the time is  22715.239775000002 \n",
            "\n",
            "Avg Jacc is:\n",
            "predicted segmentation \n",
            "\n"
          ],
          "name": "stdout"
        },
        {
          "output_type": "display_data",
          "data": {
            "image/png": "[encoded data removed]",
            "text/plain": [
              "<Figure size 432x288 with 1 Axes>"
            ]
          },
          "metadata": {
            "tags": []
          }
        },
        {
          "output_type": "stream",
          "text": [
            "ground_truth segmentation \n",
            "\n"
          ],
          "name": "stdout"
        },
        {
          "output_type": "display_data",
          "data": {
            "image/png": "[encoded data removed]",
            "text/plain": [
              "<Figure size 432x288 with 1 Axes>"
            ]
          },
          "metadata": {
            "tags": []
          }
        },
        {
          "output_type": "stream",
          "text": [
            "0.39518379798302283  step number is  3500  batch_size is  16\n",
            "Currently on step 3600\n",
            "the time is  23363.131492 \n",
            "\n",
            "Avg Jacc is:\n",
            "predicted segmentation \n",
            "\n"
          ],
          "name": "stdout"
        },
        {
          "output_type": "display_data",
          "data": {
            "image/png": "[encoded data removed]",
            "text/plain": [
              "<Figure size 432x288 with 1 Axes>"
            ]
          },
          "metadata": {
            "tags": []
          }
        },
        {
          "output_type": "stream",
          "text": [
            "ground_truth segmentation \n",
            "\n"
          ],
          "name": "stdout"
        },
        {
          "output_type": "display_data",
          "data": {
            "image/png": "[encoded data removed]",
            "text/plain": [
              "<Figure size 432x288 with 1 Axes>"
            ]
          },
          "metadata": {
            "tags": []
          }
        },
        {
          "output_type": "stream",
          "text": [
            "0.472793461726262  step number is  3600  batch_size is  16\n",
            "Currently on step 3700\n",
            "the time is  24015.734900000003 \n",
            "\n",
            "Avg Jacc is:\n",
            "predicted segmentation \n",
            "\n"
          ],
          "name": "stdout"
        },
        {
          "output_type": "display_data",
          "data": {
            "image/png": "[encoded data removed]",
            "text/plain": [
              "<Figure size 432x288 with 1 Axes>"
            ]
          },
          "metadata": {
            "tags": []
          }
        },
        {
          "output_type": "stream",
          "text": [
            "ground_truth segmentation \n",
            "\n"
          ],
          "name": "stdout"
        },
        {
          "output_type": "display_data",
          "data": {
            "image/png": "[encoded data removed]",
            "text/plain": [
              "<Figure size 432x288 with 1 Axes>"
            ]
          },
          "metadata": {
            "tags": []
          }
        },
        {
          "output_type": "stream",
          "text": [
            "0.486451662503756  step number is  3700  batch_size is  16\n",
            "Currently on step 3800\n",
            "the time is  24664.433536 \n",
            "\n",
            "Avg Jacc is:\n",
            "predicted segmentation \n",
            "\n"
          ],
          "name": "stdout"
        },
        {
          "output_type": "display_data",
          "data": {
            "image/png": "[encoded data removed]",
            "text/plain": [
              "<Figure size 432x288 with 1 Axes>"
            ]
          },
          "metadata": {
            "tags": []
          }
        },
        {
          "output_type": "stream",
          "text": [
            "ground_truth segmentation \n",
            "\n"
          ],
          "name": "stdout"
        },
        {
          "output_type": "display_data",
          "data": {
            "image/png": "[encoded data removed]",
            "text/plain": [
              "<Figure size 432x288 with 1 Axes>"
            ]
          },
          "metadata": {
            "tags": []
          }
        },
        {
          "output_type": "stream",
          "text": [
            "0.5067520728478065  step number is  3800  batch_size is  16\n",
            "Currently on step 3900\n",
            "the time is  25315.759336000003 \n",
            "\n",
            "Avg Jacc is:\n",
            "predicted segmentation \n",
            "\n"
          ],
          "name": "stdout"
        },
        {
          "output_type": "display_data",
          "data": {
            "image/png": "[encoded data removed]",
            "text/plain": [
              "<Figure size 432x288 with 1 Axes>"
            ]
          },
          "metadata": {
            "tags": []
          }
        },
        {
          "output_type": "stream",
          "text": [
            "ground_truth segmentation \n",
            "\n"
          ],
          "name": "stdout"
        },
        {
          "output_type": "display_data",
          "data": {
            "image/png": "[encoded data removed]",
            "text/plain": [
              "<Figure size 432x288 with 1 Axes>"
            ]
          },
          "metadata": {
            "tags": []
          }
        },
        {
          "output_type": "stream",
          "text": [
            "0.4414441915658804  step number is  3900  batch_size is  16\n",
            "Currently on step 4000\n",
            "the time is  25963.999687000003 \n",
            "\n",
            "Avg Jacc is:\n",
            "predicted segmentation \n",
            "\n"
          ],
          "name": "stdout"
        },
        {
          "output_type": "display_data",
          "data": {
            "image/png": "[encoded data removed]",
            "text/plain": [
              "<Figure size 432x288 with 1 Axes>"
            ]
          },
          "metadata": {
            "tags": []
          }
        },
        {
          "output_type": "stream",
          "text": [
            "ground_truth segmentation \n",
            "\n"
          ],
          "name": "stdout"
        },
        {
          "output_type": "display_data",
          "data": {
            "image/png": "[encoded data removed]",
            "text/plain": [
              "<Figure size 432x288 with 1 Axes>"
            ]
          },
          "metadata": {
            "tags": []
          }
        },
        {
          "output_type": "stream",
          "text": [
            "0.49610349214993993  step number is  4000  batch_size is  16\n",
            "Currently on step 4100\n",
            "the time is  26613.796673 \n",
            "\n",
            "Avg Jacc is:\n",
            "predicted segmentation \n",
            "\n"
          ],
          "name": "stdout"
        },
        {
          "output_type": "display_data",
          "data": {
            "image/png": "[encoded data removed]",
            "text/plain": [
              "<Figure size 432x288 with 1 Axes>"
            ]
          },
          "metadata": {
            "tags": []
          }
        },
        {
          "output_type": "stream",
          "text": [
            "ground_truth segmentation \n",
            "\n"
          ],
          "name": "stdout"
        },
        {
          "output_type": "display_data",
          "data": {
            "image/png": "[encoded data removed]",
            "text/plain": [
              "<Figure size 432x288 with 1 Axes>"
            ]
          },
          "metadata": {
            "tags": []
          }
        },
        {
          "output_type": "stream",
          "text": [
            "0.5093174861027644  step number is  4100  batch_size is  16\n",
            "Currently on step 4200\n",
            "the time is  27262.196291 \n",
            "\n",
            "Avg Jacc is:\n",
            "predicted segmentation \n",
            "\n"
          ],
          "name": "stdout"
        },
        {
          "output_type": "display_data",
          "data": {
            "image/png": "[encoded data removed]",
            "text/plain": [
              "<Figure size 432x288 with 1 Axes>"
            ]
          },
          "metadata": {
            "tags": []
          }
        },
        {
          "output_type": "stream",
          "text": [
            "ground_truth segmentation \n",
            "\n"
          ],
          "name": "stdout"
        },
        {
          "output_type": "display_data",
          "data": {
            "image/png": "[encoded data removed]",
            "text/plain": [
              "<Figure size 432x288 with 1 Axes>"
            ]
          },
          "metadata": {
            "tags": []
          }
        },
        {
          "output_type": "stream",
          "text": [
            "0.48883992708646334  step number is  4200  batch_size is  16\n",
            "Currently on step 4300\n",
            "the time is  27910.109111 \n",
            "\n",
            "Avg Jacc is:\n",
            "predicted segmentation \n",
            "\n"
          ],
          "name": "stdout"
        },
        {
          "output_type": "display_data",
          "data": {
            "image/png": "[encoded data removed]",
            "text/plain": [
              "<Figure size 432x288 with 1 Axes>"
            ]
          },
          "metadata": {
            "tags": []
          }
        },
        {
          "output_type": "stream",
          "text": [
            "ground_truth segmentation \n",
            "\n"
          ],
          "name": "stdout"
        },
        {
          "output_type": "display_data",
          "data": {
            "image/png": "[encoded data removed]",
            "text/plain": [
              "<Figure size 432x288 with 1 Axes>"
            ]
          },
          "metadata": {
            "tags": []
          }
        },
        {
          "output_type": "stream",
          "text": [
            "0.5002156771146334  step number is  4300  batch_size is  16\n",
            "Currently on step 4400\n",
            "the time is  28559.459389 \n",
            "\n",
            "Avg Jacc is:\n",
            "predicted segmentation \n",
            "\n"
          ],
          "name": "stdout"
        },
        {
          "output_type": "display_data",
          "data": {
            "image/png": "[encoded data removed]",
            "text/plain": [
              "<Figure size 432x288 with 1 Axes>"
            ]
          },
          "metadata": {
            "tags": []
          }
        },
        {
          "output_type": "stream",
          "text": [
            "ground_truth segmentation \n",
            "\n"
          ],
          "name": "stdout"
        },
        {
          "output_type": "display_data",
          "data": {
            "image/png": "[encoded data removed]",
            "text/plain": [
              "<Figure size 432x288 with 1 Axes>"
            ]
          },
          "metadata": {
            "tags": []
          }
        },
        {
          "output_type": "stream",
          "text": [
            "0.46105692936823917  step number is  4400  batch_size is  16\n",
            "Currently on step 4500\n",
            "the time is  29205.678187 \n",
            "\n",
            "Avg Jacc is:\n",
            "predicted segmentation \n",
            "\n"
          ],
          "name": "stdout"
        },
        {
          "output_type": "display_data",
          "data": {
            "image/png": "[encoded data removed]",
            "text/plain": [
              "<Figure size 432x288 with 1 Axes>"
            ]
          },
          "metadata": {
            "tags": []
          }
        },
        {
          "output_type": "stream",
          "text": [
            "ground_truth segmentation \n",
            "\n"
          ],
          "name": "stdout"
        },
        {
          "output_type": "display_data",
          "data": {
            "image/png": "[encoded data removed]",
            "text/plain": [
              "<Figure size 432x288 with 1 Axes>"
            ]
          },
          "metadata": {
            "tags": []
          }
        },
        {
          "output_type": "stream",
          "text": [
            "0.5272994408240685  step number is  4500  batch_size is  16\n",
            "Currently on step 4600\n",
            "the time is  29850.135888 \n",
            "\n",
            "Avg Jacc is:\n",
            "predicted segmentation \n",
            "\n"
          ],
          "name": "stdout"
        },
        {
          "output_type": "display_data",
          "data": {
            "image/png": "[encoded data removed]",
            "text/plain": [
              "<Figure size 432x288 with 1 Axes>"
            ]
          },
          "metadata": {
            "tags": []
          }
        },
        {
          "output_type": "stream",
          "text": [
            "ground_truth segmentation \n",
            "\n"
          ],
          "name": "stdout"
        },
        {
          "output_type": "display_data",
          "data": {
            "image/png": "[encoded data removed]",
            "text/plain": [
              "<Figure size 432x288 with 1 Axes>"
            ]
          },
          "metadata": {
            "tags": []
          }
        },
        {
          "output_type": "stream",
          "text": [
            "0.5002472510704628  step number is  4600  batch_size is  16\n",
            "Currently on step 4700\n",
            "the time is  30493.428524000003 \n",
            "\n",
            "Avg Jacc is:\n",
            "predicted segmentation \n",
            "\n"
          ],
          "name": "stdout"
        },
        {
          "output_type": "display_data",
          "data": {
            "image/png": "[encoded data removed]",
            "text/plain": [
              "<Figure size 432x288 with 1 Axes>"
            ]
          },
          "metadata": {
            "tags": []
          }
        },
        {
          "output_type": "stream",
          "text": [
            "ground_truth segmentation \n",
            "\n"
          ],
          "name": "stdout"
        },
        {
          "output_type": "display_data",
          "data": {
            "image/png": "[encoded data removed]",
            "text/plain": [
              "<Figure size 432x288 with 1 Axes>"
            ]
          },
          "metadata": {
            "tags": []
          }
        },
        {
          "output_type": "stream",
          "text": [
            "0.47769012451171877  step number is  4700  batch_size is  16\n",
            "Currently on step 4800\n",
            "the time is  31143.460623000003 \n",
            "\n",
            "Avg Jacc is:\n",
            "predicted segmentation \n",
            "\n"
          ],
          "name": "stdout"
        },
        {
          "output_type": "display_data",
          "data": {
            "image/png": "[encoded data removed]",
            "text/plain": [
              "<Figure size 432x288 with 1 Axes>"
            ]
          },
          "metadata": {
            "tags": []
          }
        },
        {
          "output_type": "stream",
          "text": [
            "ground_truth segmentation \n",
            "\n"
          ],
          "name": "stdout"
        },
        {
          "output_type": "display_data",
          "data": {
            "image/png": "[encoded data removed]",
            "text/plain": [
              "<Figure size 432x288 with 1 Axes>"
            ]
          },
          "metadata": {
            "tags": []
          }
        },
        {
          "output_type": "stream",
          "text": [
            "0.5263238760141226  step number is  4800  batch_size is  16\n",
            "Currently on step 4900\n",
            "the time is  31799.360243000003 \n",
            "\n",
            "Avg Jacc is:\n",
            "predicted segmentation \n",
            "\n"
          ],
          "name": "stdout"
        },
        {
          "output_type": "display_data",
          "data": {
            "image/png": "[encoded data removed]",
            "text/plain": [
              "<Figure size 432x288 with 1 Axes>"
            ]
          },
          "metadata": {
            "tags": []
          }
        },
        {
          "output_type": "stream",
          "text": [
            "ground_truth segmentation \n",
            "\n"
          ],
          "name": "stdout"
        },
        {
          "output_type": "display_data",
          "data": {
            "image/png": "[encoded data removed]",
            "text/plain": [
              "<Figure size 432x288 with 1 Axes>"
            ]
          },
          "metadata": {
            "tags": []
          }
        },
        {
          "output_type": "stream",
          "text": [
            "0.4503744858961839  step number is  4900  batch_size is  16\n",
            "Currently on step 5000\n",
            "the time is  32448.233097 \n",
            "\n",
            "Avg Jacc is:\n",
            "predicted segmentation \n",
            "\n"
          ],
          "name": "stdout"
        },
        {
          "output_type": "display_data",
          "data": {
            "image/png": "[encoded data removed]",
            "text/plain": [
              "<Figure size 432x288 with 1 Axes>"
            ]
          },
          "metadata": {
            "tags": []
          }
        },
        {
          "output_type": "stream",
          "text": [
            "ground_truth segmentation \n",
            "\n"
          ],
          "name": "stdout"
        },
        {
          "output_type": "display_data",
          "data": {
            "image/png": "[encoded data removed]",
            "text/plain": [
              "<Figure size 432x288 with 1 Axes>"
            ]
          },
          "metadata": {
            "tags": []
          }
        },
        {
          "output_type": "stream",
          "text": [
            "0.48990678053635817  step number is  5000  batch_size is  16\n",
            "Currently on step 5100\n",
            "the time is  33099.721873999995 \n",
            "\n",
            "Avg Jacc is:\n",
            "predicted segmentation \n",
            "\n"
          ],
          "name": "stdout"
        },
        {
          "output_type": "display_data",
          "data": {
            "image/png": "[encoded data removed]",
            "text/plain": [
              "<Figure size 432x288 with 1 Axes>"
            ]
          },
          "metadata": {
            "tags": []
          }
        },
        {
          "output_type": "stream",
          "text": [
            "ground_truth segmentation \n",
            "\n"
          ],
          "name": "stdout"
        },
        {
          "output_type": "display_data",
          "data": {
            "image/png": "[encoded data removed]",
            "text/plain": [
              "<Figure size 432x288 with 1 Axes>"
            ]
          },
          "metadata": {
            "tags": []
          }
        },
        {
          "output_type": "stream",
          "text": [
            "0.4963889488807091  step number is  5100  batch_size is  16\n"
          ],
          "name": "stdout"
        }
      ]
    },
    {
      "cell_type": "code",
      "metadata": {
        "id": "xAmnSngeOQU3",
        "colab_type": "code",
        "colab": {}
      },
      "source": [
        "tr"
      ],
      "execution_count": 0,
      "outputs": []
    },
    {
      "cell_type": "markdown",
      "metadata": {
        "id": "ycp26L7WshtR",
        "colab_type": "text"
      },
      "source": [
        "Melanoma Segmentation Algorithm Performance"
      ]
    },
    {
      "cell_type": "code",
      "metadata": {
        "id": "OgBtoXllqHTu",
        "colab_type": "code",
        "colab": {}
      },
      "source": [
        "J_out[1].shape"
      ],
      "execution_count": 0,
      "outputs": []
    },
    {
      "cell_type": "markdown",
      "metadata": {
        "id": "TRkxiKrJqMTY",
        "colab_type": "text"
      },
      "source": [
        "Jaccard Index over Training Set"
      ]
    },
    {
      "cell_type": "markdown",
      "metadata": {
        "id": "ykD4uwzGqMPc",
        "colab_type": "text"
      },
      "source": [
        ""
      ]
    },
    {
      "cell_type": "code",
      "metadata": {
        "id": "tuEdKJQ85Nqf",
        "colab_type": "code",
        "colab": {}
      },
      "source": [
        "j_train = np.array(j_train)\n",
        "j_test = np.array(j_test)\n",
        "plt.plot(j_train)"
      ],
      "execution_count": 0,
      "outputs": []
    },
    {
      "cell_type": "markdown",
      "metadata": {
        "id": "6GmkiCPjqUVk",
        "colab_type": "text"
      },
      "source": [
        "Jaccard Index Over Test Set\n"
      ]
    },
    {
      "cell_type": "code",
      "metadata": {
        "id": "I6h0-RmJcPJp",
        "colab_type": "code",
        "colab": {}
      },
      "source": [
        "\n",
        "plt.plot(j_test)"
      ],
      "execution_count": 0,
      "outputs": []
    },
    {
      "cell_type": "markdown",
      "metadata": {
        "id": "5EXJgxqYquab",
        "colab_type": "text"
      },
      "source": [
        "Jaccard distribution over the Test Set"
      ]
    },
    {
      "cell_type": "code",
      "metadata": {
        "id": "1hy80bHP4M37",
        "colab_type": "code",
        "colab": {}
      },
      "source": [
        "plt.hist(J_out[0])"
      ],
      "execution_count": 0,
      "outputs": []
    },
    {
      "cell_type": "markdown",
      "metadata": {
        "id": "-Cf8EfB_q56B",
        "colab_type": "text"
      },
      "source": [
        "Jaccard Distribution over the Training Set"
      ]
    },
    {
      "cell_type": "code",
      "metadata": {
        "id": "0lvmxblpnxO7",
        "colab_type": "code",
        "colab": {}
      },
      "source": [
        "plt.hist(J_out_t[0])"
      ],
      "execution_count": 0,
      "outputs": []
    },
    {
      "cell_type": "markdown",
      "metadata": {
        "id": "l7HGzO5XrJbP",
        "colab_type": "text"
      },
      "source": [
        "Failure Rate on the Test Set"
      ]
    },
    {
      "cell_type": "code",
      "metadata": {
        "id": "9grxJSCowWDi",
        "colab_type": "code",
        "colab": {}
      },
      "source": [
        "#failure rate on test set:\n",
        "fails = 0\n",
        "for a in J_out[0]:\n",
        "  if a < 0.65:\n",
        "    fails += 1\n",
        "    \n",
        "rate = fails/J_out[0].shape[0]\n",
        "rate"
      ],
      "execution_count": 0,
      "outputs": []
    },
    {
      "cell_type": "markdown",
      "metadata": {
        "id": "ozKxJoKafN0x",
        "colab_type": "text"
      },
      "source": [
        "## Analyze Pigmentation\n"
      ]
    },
    {
      "cell_type": "markdown",
      "metadata": {
        "id": "UZ9qqGnJQ_Ph",
        "colab_type": "text"
      },
      "source": [
        "Only about 10% of the colour variation  comes from segmentation failure then"
      ]
    },
    {
      "cell_type": "code",
      "metadata": {
        "id": "XHjnLciJROCY",
        "colab_type": "code",
        "colab": {}
      },
      "source": [
        "J_out[3].mean()"
      ],
      "execution_count": 0,
      "outputs": []
    },
    {
      "cell_type": "code",
      "metadata": {
        "id": "BUwWQSs1NYGN",
        "colab_type": "code",
        "colab": {}
      },
      "source": [
        "plt.hist(J_out[3])"
      ],
      "execution_count": 0,
      "outputs": []
    },
    {
      "cell_type": "markdown",
      "metadata": {
        "id": "VXwxkZ62zmyt",
        "colab_type": "text"
      },
      "source": [
        "This roughly representative of the distribution of the size of the spots compared to the size of the normal skin area in the melanoma dataset"
      ]
    },
    {
      "cell_type": "code",
      "metadata": {
        "id": "RpEiAKSczVlu",
        "colab_type": "code",
        "colab": {}
      },
      "source": [
        "plt.hist(J_out[4])"
      ],
      "execution_count": 0,
      "outputs": []
    },
    {
      "cell_type": "code",
      "metadata": {
        "id": "aPBW3tGrfN0x",
        "colab_type": "code",
        "colab": {}
      },
      "source": [
        "plt.imshow(pred_pigment[0][5,:,:])\n",
        "plt.show()"
      ],
      "execution_count": 0,
      "outputs": []
    },
    {
      "cell_type": "code",
      "metadata": {
        "id": "F065GTgDfN0y",
        "colab_type": "code",
        "colab": {}
      },
      "source": [
        "pigs.shape"
      ],
      "execution_count": 0,
      "outputs": []
    },
    {
      "cell_type": "code",
      "metadata": {
        "id": "hpT_cK9NfN01",
        "colab_type": "code",
        "colab": {}
      },
      "source": [
        "pred_pigment[0].shape"
      ],
      "execution_count": 0,
      "outputs": []
    },
    {
      "cell_type": "code",
      "metadata": {
        "id": "yyGWGE_HmlWc",
        "colab_type": "code",
        "colab": {}
      },
      "source": [
        ""
      ],
      "execution_count": 0,
      "outputs": []
    },
    {
      "cell_type": "code",
      "metadata": {
        "id": "Zxfv9B0wfN03",
        "colab_type": "code",
        "colab": {}
      },
      "source": [
        "plt.imshow(pigs[0])\n",
        "plt.show()"
      ],
      "execution_count": 0,
      "outputs": []
    },
    {
      "cell_type": "code",
      "metadata": {
        "id": "JAPOpkOnfN05",
        "colab_type": "code",
        "colab": {}
      },
      "source": [
        "def visual_progress():\n",
        "\n",
        "  mask = np.zeros([192,256,3])#np.vstack([pred_pigment[0],pred_pigment[0],pred_pigment[0]])\n",
        "  for i in range(len(pred_pigment[0])):\n",
        "    mask[:,:,0] = np.around(pred_pigment[0][i])\n",
        "    mask[:,:,1] = np.around(pred_pigment[0][i])\n",
        "    mask[:,:,2] = np.around(pred_pigment[0][i])\n",
        "\n",
        "\n",
        "    image = pigs[i]\n",
        "    plt.imshow(image)\n",
        "    plt.show()\n",
        "    notmask = 1- mask\n",
        "    image2 = image*mask\n",
        "    image1 = image*(1- mask)\n",
        "\n",
        "    image2_avgr = np.average(image2[:,:,0], weights = mask[:,:,0])\n",
        "    image2_avgg = np.average(image2[:,:,1], weights = mask[:,:,1]) \n",
        "    image2_avgb = np.average(image2[:,:,2], weights = mask[:,:,2])\n",
        "\n",
        "    image1_avgr = np.average(image1[:,:,0], weights = notmask[:,:,0])\n",
        "    image1_avgg = np.average(image1[:,:,1], weights = notmask[:,:,1]) \n",
        "    image1_avgb = np.average(image1[:,:,2], weights = notmask[:,:,2])\n",
        "\n",
        "\n",
        "    if i==0:\n",
        "      avgro= image2_avgr\n",
        "      avggo = image2_avgg\n",
        "      avgbo = image2_avgb\n",
        "\n",
        "      navgro= image2_avgr\n",
        "      navggo = image2_avgg\n",
        "      navgbo = image2_avgb\n",
        "\n",
        "\n",
        "\n",
        "\n",
        "    image2_avg = np.zeros(image2.shape)\n",
        "    image1_avg = np.zeros(image1.shape)\n",
        "    image2_avg[:,:,0] = image2_avgr\n",
        "    image2_avg[:,:,1] = image2_avgg\n",
        "    image2_avg[:,:,2] = image2_avgb\n",
        "\n",
        "    image1_avg[:,:,0] = image1_avgr\n",
        "    image1_avg[:,:,1] = image1_avgg\n",
        "    image1_avg[:,:,2] = image1_avgb\n",
        "#mask = 1-mask\n",
        "#mask = mask.astype(int)\n",
        "    plt.imshow(image2_avg)\n",
        "    plt.show()\n",
        "  \n",
        "#image[mask] = 0\n",
        "\n",
        "    plt.imshow(image1_avg)\n",
        "    plt.show()\n",
        "\n",
        "    plt.imshow(image2)\n",
        "    plt.show()\n",
        "    plt.imshow(image1)\n",
        "    plt.show()\n",
        "\n",
        "    print(\"next day..\\n\")\n",
        "  return(avgro,avggo,avgbo,navgro,navggo,navgbo)"
      ],
      "execution_count": 0,
      "outputs": []
    },
    {
      "cell_type": "code",
      "metadata": {
        "id": "xirh3WruWeIx",
        "colab_type": "code",
        "colab": {}
      },
      "source": [
        "avgro, avggo, avgbo, navgro, navggo, navgbo  = visual_progress()"
      ],
      "execution_count": 0,
      "outputs": []
    },
    {
      "cell_type": "code",
      "metadata": {
        "id": "I5dc6TdTfN1S",
        "colab_type": "code",
        "colab": {}
      },
      "source": [
        "def measure_progress(pigs,masks):  ##changed to blue\n",
        "    blue_pigs = []\n",
        "    blue_norms = []\n",
        "    imagesp = []\n",
        "    imagesn = []\n",
        "    i = 0\n",
        "    for pig in pigs:\n",
        "        mask = np.zeros([192,256,3])#np.vstack([pred_pigment[0],pred_pigment[0],pred_pigment[0]])\n",
        "        mask[:,:,0] = pred_pigment[0][i,:,:]\n",
        "        mask[:,:,1] = pred_pigment[0][i,:,:]\n",
        "        mask[:,:,2] = pred_pigment[0][i,:,:]\n",
        "        mask_inv = 1- mask\n",
        "        imagep = pig*mask*255\n",
        "        imagen = pig*(1- mask)*255\n",
        "        imagesp += [imagep]\n",
        "        imagesn += [imagen]\n",
        "        blue_norm = imagen[:,:,2].reshape(-1)  #- 3*imagen[:,:,1].reshape(-1)/8\n",
        "        blue_pig = imagep[:,:,2].reshape(-1)  # - 3*imagep[:,:,1].reshape(-1)/8\n",
        "\n",
        "        #in next step subtract average at time 0 from these numbers and divide by average segmentation error\n",
        "        #find average error by taking time 0 color of pigment and average with % segmentation error colour of normal, plus and minus, to find the value in bits (pixel values)\n",
        "        #recompute the trajecotry in terms of movements away from day 1 in normalized terms\n",
        "        #tag days with higher motion\n",
        "\n",
        "        an = np.average(blue_norm, weights =mask_inv[:,:,0].reshape(-1))\n",
        "        ap = np.average(blue_pig, weights =mask[:,:,0].reshape(-1))\n",
        "        blue_pigs += [ap] \n",
        "        blue_norms += [an]\n",
        "        i+=1\n",
        "    blue_pigs = np.array(blue_pigs)\n",
        "    blue_norms = np.array(blue_norms)\n",
        "    return(blue_pigs, blue_norms, imagesp, imagesn)"
      ],
      "execution_count": 0,
      "outputs": []
    },
    {
      "cell_type": "code",
      "metadata": {
        "id": "e9gn0cEOGeXI",
        "colab_type": "code",
        "colab": {}
      },
      "source": [
        "def measure_progress_red(pigs,masks):  ##changed to blue\n",
        "    blue_pigs = []\n",
        "    blue_norms = []\n",
        "    imagesp = []\n",
        "    imagesn = []\n",
        "    i = 0\n",
        "    for pig in pigs:\n",
        "        mask = np.zeros([192,256,3])#np.vstack([pred_pigment[0],pred_pigment[0],pred_pigment[0]])\n",
        "        mask[:,:,0] = pred_pigment[0][i,:,:]\n",
        "        mask[:,:,1] = pred_pigment[0][i,:,:]\n",
        "        mask[:,:,2] = pred_pigment[0][i,:,:]\n",
        "        mask_inv = 1- mask\n",
        "        imagep = pig*mask*255\n",
        "        imagen = pig*(1- mask)*255\n",
        "        imagesp += [imagep]\n",
        "        imagesn += [imagen]\n",
        "        blue_norm = imagen[:,:,0].reshape(-1)  #- 3*imagen[:,:,1].reshape(-1)/8\n",
        "        blue_pig = imagep[:,:,0].reshape(-1)  # - 3*imagep[:,:,1].reshape(-1)/8\n",
        "\n",
        "        #in next step subtract average at time 0 from these numbers and divide by average segmentation error\n",
        "        #find average error by taking time 0 color of pigment and average with % segmentation error colour of normal, plus and minus, to find the value in bits (pixel values)\n",
        "        #recompute the trajecotry in terms of movements away from day 1 in normalized terms\n",
        "        #tag days with higher motion\n",
        "\n",
        "        an = np.average(blue_norm, weights =mask_inv[:,:,0].reshape(-1))\n",
        "        ap = np.average(blue_pig, weights =mask[:,:,0].reshape(-1))\n",
        "        blue_pigs += [ap] \n",
        "        blue_norms += [an]\n",
        "        i+=1\n",
        "    blue_pigs = np.array(blue_pigs)\n",
        "    blue_norms = np.array(blue_norms)\n",
        "    return(blue_pigs, blue_norms, imagesp, imagesn)"
      ],
      "execution_count": 0,
      "outputs": []
    },
    {
      "cell_type": "code",
      "metadata": {
        "id": "0Gl1CurMfN1T",
        "colab_type": "code",
        "colab": {}
      },
      "source": [
        "pigmented, normal, imagesp, imagesn = measure_progress(pigs,pred_pigment)"
      ],
      "execution_count": 0,
      "outputs": []
    },
    {
      "cell_type": "code",
      "metadata": {
        "id": "o5rX8eyNGsVb",
        "colab_type": "code",
        "colab": {}
      },
      "source": [
        "pigmentedr, normalr, imagespr, imagesnr = measure_progress_red(pigs,pred_pigment)"
      ],
      "execution_count": 0,
      "outputs": []
    },
    {
      "cell_type": "code",
      "metadata": {
        "id": "hIybHR8HfN1U",
        "colab_type": "code",
        "colab": {}
      },
      "source": [
        "J_out[1].shape"
      ],
      "execution_count": 0,
      "outputs": []
    },
    {
      "cell_type": "code",
      "metadata": {
        "id": "X0o7efNIEF6O",
        "colab_type": "code",
        "colab": {}
      },
      "source": [
        "plt.imshow(imagesn[0])"
      ],
      "execution_count": 0,
      "outputs": []
    },
    {
      "cell_type": "code",
      "metadata": {
        "id": "SFU1gqlwfN1V",
        "colab_type": "code",
        "colab": {}
      },
      "source": [
        "pigmented"
      ],
      "execution_count": 0,
      "outputs": []
    },
    {
      "cell_type": "code",
      "metadata": {
        "id": "OGl5P8_DfN1W",
        "colab_type": "code",
        "colab": {}
      },
      "source": [
        "normal"
      ],
      "execution_count": 0,
      "outputs": []
    },
    {
      "cell_type": "code",
      "metadata": {
        "id": "SI0Ug5XQfN1X",
        "colab_type": "code",
        "colab": {}
      },
      "source": [
        "plt.plot(normal - pigmented)"
      ],
      "execution_count": 0,
      "outputs": []
    },
    {
      "cell_type": "code",
      "metadata": {
        "id": "P2lcE57yG1-l",
        "colab_type": "code",
        "colab": {}
      },
      "source": [
        "plt.plot(normalr - pigmentedr)"
      ],
      "execution_count": 0,
      "outputs": []
    },
    {
      "cell_type": "code",
      "metadata": {
        "id": "2Y-HM_QTfN1X",
        "colab_type": "code",
        "colab": {}
      },
      "source": [
        "plt.plot(normal)"
      ],
      "execution_count": 0,
      "outputs": []
    },
    {
      "cell_type": "code",
      "metadata": {
        "id": "tLL3SrbpHEEm",
        "colab_type": "code",
        "colab": {}
      },
      "source": [
        "plt.plot(normalr)"
      ],
      "execution_count": 0,
      "outputs": []
    },
    {
      "cell_type": "code",
      "metadata": {
        "id": "hPauIGdCfN1Y",
        "colab_type": "code",
        "colab": {}
      },
      "source": [
        "plt.plot(pigmented)"
      ],
      "execution_count": 0,
      "outputs": []
    },
    {
      "cell_type": "code",
      "metadata": {
        "id": "SRLveO-sHO9u",
        "colab_type": "code",
        "colab": {}
      },
      "source": [
        "plt.plot(pigmentedr)"
      ],
      "execution_count": 0,
      "outputs": []
    },
    {
      "cell_type": "code",
      "metadata": {
        "id": "EKYExBeMfN1Z",
        "colab_type": "code",
        "colab": {}
      },
      "source": [
        "plt.imshow(imagesp[0])"
      ],
      "execution_count": 0,
      "outputs": []
    },
    {
      "cell_type": "code",
      "metadata": {
        "id": "RGbveiABfN1a",
        "colab_type": "code",
        "colab": {}
      },
      "source": [
        "plt.imshow(imagesp[1])"
      ],
      "execution_count": 0,
      "outputs": []
    },
    {
      "cell_type": "code",
      "metadata": {
        "id": "QLx2lHwtfN1b",
        "colab_type": "code",
        "colab": {}
      },
      "source": [
        "plt.imshow(imagesp[2])"
      ],
      "execution_count": 0,
      "outputs": []
    },
    {
      "cell_type": "code",
      "metadata": {
        "id": "X5_39MM-fN1d",
        "colab_type": "code",
        "colab": {}
      },
      "source": [
        "plt.imshow(imagesp[3])"
      ],
      "execution_count": 0,
      "outputs": []
    },
    {
      "cell_type": "code",
      "metadata": {
        "id": "p3d7xIRpfN1e",
        "colab_type": "code",
        "colab": {}
      },
      "source": [
        "plt.imshow(imagesp[4])"
      ],
      "execution_count": 0,
      "outputs": []
    },
    {
      "cell_type": "code",
      "metadata": {
        "id": "lVuabyyffN1f",
        "colab_type": "code",
        "colab": {}
      },
      "source": [
        "plt.imshow(imagesp[5])"
      ],
      "execution_count": 0,
      "outputs": []
    },
    {
      "cell_type": "code",
      "metadata": {
        "id": "ecXz5Qg2fN1g",
        "colab_type": "code",
        "colab": {}
      },
      "source": [
        "plt.imshow(imagesp[6])"
      ],
      "execution_count": 0,
      "outputs": []
    },
    {
      "cell_type": "code",
      "metadata": {
        "id": "vljOjV8AfN1g",
        "colab_type": "code",
        "colab": {}
      },
      "source": [
        "plt.imshow(imagesp[7])"
      ],
      "execution_count": 0,
      "outputs": []
    },
    {
      "cell_type": "code",
      "metadata": {
        "id": "20qm-GS0fN1h",
        "colab_type": "code",
        "colab": {}
      },
      "source": [
        "plt.imshow(imagesp[8])"
      ],
      "execution_count": 0,
      "outputs": []
    },
    {
      "cell_type": "code",
      "metadata": {
        "id": "_raVEmR1fN1j",
        "colab_type": "code",
        "colab": {}
      },
      "source": [
        "plt.imshow(imagesp[9])"
      ],
      "execution_count": 0,
      "outputs": []
    },
    {
      "cell_type": "code",
      "metadata": {
        "id": "jLG0X9zwfN1l",
        "colab_type": "code",
        "colab": {}
      },
      "source": [
        "plt.imshow(imagesp[10])"
      ],
      "execution_count": 0,
      "outputs": []
    },
    {
      "cell_type": "code",
      "metadata": {
        "id": "551fWebzfN1m",
        "colab_type": "code",
        "colab": {}
      },
      "source": [
        "pigmented[0]"
      ],
      "execution_count": 0,
      "outputs": []
    },
    {
      "cell_type": "code",
      "metadata": {
        "id": "mD9EF_yxfN1m",
        "colab_type": "code",
        "colab": {}
      },
      "source": [
        "pigmented[10]"
      ],
      "execution_count": 0,
      "outputs": []
    },
    {
      "cell_type": "code",
      "metadata": {
        "id": "ks9ZDXfWfN1n",
        "colab_type": "code",
        "colab": {}
      },
      "source": [
        "plt.imshow(imagesp[0])"
      ],
      "execution_count": 0,
      "outputs": []
    },
    {
      "cell_type": "code",
      "metadata": {
        "id": "lqMFsSngfN1o",
        "colab_type": "code",
        "colab": {}
      },
      "source": [
        "plt.imshow(imagesp[11])"
      ],
      "execution_count": 0,
      "outputs": []
    },
    {
      "cell_type": "code",
      "metadata": {
        "id": "FHHB-0G2fN1p",
        "colab_type": "code",
        "colab": {}
      },
      "source": [
        "plt.imshow(imagesp[12])"
      ],
      "execution_count": 0,
      "outputs": []
    },
    {
      "cell_type": "code",
      "metadata": {
        "id": "ZgSGsY2YfN1q",
        "colab_type": "code",
        "colab": {}
      },
      "source": [
        "plt.imshow(imagesp[13])"
      ],
      "execution_count": 0,
      "outputs": []
    },
    {
      "cell_type": "code",
      "metadata": {
        "id": "s4TjKPuQfN1s",
        "colab_type": "code",
        "colab": {}
      },
      "source": [
        "plt.imshow(imagesp[14])"
      ],
      "execution_count": 0,
      "outputs": []
    },
    {
      "cell_type": "code",
      "metadata": {
        "id": "5yDzxusDfN1t",
        "colab_type": "code",
        "colab": {}
      },
      "source": [
        "plt.imshow(imagesp[15])"
      ],
      "execution_count": 0,
      "outputs": []
    },
    {
      "cell_type": "code",
      "metadata": {
        "id": "px8uG7stfN1t",
        "colab_type": "code",
        "colab": {}
      },
      "source": [
        "plt.imshow(imagesp[16])"
      ],
      "execution_count": 0,
      "outputs": []
    },
    {
      "cell_type": "code",
      "metadata": {
        "id": "WCVqCLpcfN1u",
        "colab_type": "code",
        "colab": {}
      },
      "source": [
        "plt.imshow(imagesp[17])"
      ],
      "execution_count": 0,
      "outputs": []
    },
    {
      "cell_type": "code",
      "metadata": {
        "id": "1UXuk8sxfN1x",
        "colab_type": "code",
        "colab": {}
      },
      "source": [
        "plt.imshow(imagesp[18])"
      ],
      "execution_count": 0,
      "outputs": []
    },
    {
      "cell_type": "code",
      "metadata": {
        "id": "hbx4K_-9fN1y",
        "colab_type": "code",
        "colab": {}
      },
      "source": [
        "plt.imshow(imagesp[19])"
      ],
      "execution_count": 0,
      "outputs": []
    },
    {
      "cell_type": "code",
      "metadata": {
        "id": "e6MwZhmyfN1y",
        "colab_type": "code",
        "colab": {}
      },
      "source": [
        "plt.imshow(imagesp[20])"
      ],
      "execution_count": 0,
      "outputs": []
    },
    {
      "cell_type": "code",
      "metadata": {
        "id": "L2t3dY8EfN11",
        "colab_type": "code",
        "colab": {}
      },
      "source": [
        "plt.imshow(imagesp[21])"
      ],
      "execution_count": 0,
      "outputs": []
    },
    {
      "cell_type": "code",
      "metadata": {
        "id": "DuGQCCKnfN11",
        "colab_type": "code",
        "colab": {}
      },
      "source": [
        "plt.imshow(imagesp[22])"
      ],
      "execution_count": 0,
      "outputs": []
    },
    {
      "cell_type": "code",
      "metadata": {
        "id": "ust1UM-LfN15",
        "colab_type": "code",
        "colab": {}
      },
      "source": [
        "plt.imshow(imagesp[23])"
      ],
      "execution_count": 0,
      "outputs": []
    },
    {
      "cell_type": "code",
      "metadata": {
        "id": "hrAjXfnUfN16",
        "colab_type": "code",
        "colab": {}
      },
      "source": [
        "plt.imshow(imagesp[24])"
      ],
      "execution_count": 0,
      "outputs": []
    },
    {
      "cell_type": "code",
      "metadata": {
        "id": "Nig__U98fN16",
        "colab_type": "code",
        "colab": {}
      },
      "source": [
        "plt.imshow(imagesp[25])"
      ],
      "execution_count": 0,
      "outputs": []
    },
    {
      "cell_type": "code",
      "metadata": {
        "id": "i7tRlK70fN17",
        "colab_type": "code",
        "colab": {}
      },
      "source": [
        "plt.imshow(imagesp[26])"
      ],
      "execution_count": 0,
      "outputs": []
    },
    {
      "cell_type": "code",
      "metadata": {
        "id": "xhAjKp-FfN18",
        "colab_type": "code",
        "colab": {}
      },
      "source": [
        "plt.imshow(imagesp[27])"
      ],
      "execution_count": 0,
      "outputs": []
    },
    {
      "cell_type": "code",
      "metadata": {
        "id": "ONZHGxYgfN19",
        "colab_type": "code",
        "colab": {}
      },
      "source": [
        "plt.imshow(imagesp[0])"
      ],
      "execution_count": 0,
      "outputs": []
    },
    {
      "cell_type": "code",
      "metadata": {
        "id": "WBoXOjU6fN1-",
        "colab_type": "code",
        "colab": {}
      },
      "source": [
        "test = normal - pigmented"
      ],
      "execution_count": 0,
      "outputs": []
    },
    {
      "cell_type": "code",
      "metadata": {
        "id": "_3vR3FEkfN1_",
        "colab_type": "code",
        "colab": {}
      },
      "source": [
        "test = np.hstack([test[0:2], test[4:8], test[9:21], test[22:26], test[27]])"
      ],
      "execution_count": 0,
      "outputs": []
    },
    {
      "cell_type": "code",
      "metadata": {
        "id": "eBWPYJQqfN2A",
        "colab_type": "code",
        "colab": {}
      },
      "source": [
        "plt.plot(test)"
      ],
      "execution_count": 0,
      "outputs": []
    },
    {
      "cell_type": "code",
      "metadata": {
        "id": "tUhETHmvfN2B",
        "colab_type": "code",
        "colab": {}
      },
      "source": [
        "filenames"
      ],
      "execution_count": 0,
      "outputs": []
    },
    {
      "cell_type": "code",
      "metadata": {
        "id": "cXZzpi6CfN2C",
        "colab_type": "code",
        "colab": {}
      },
      "source": [
        "normal = np.hstack([normal[0:2], normal[12], normal[21:28], normal[2:12], normal[13:20]])"
      ],
      "execution_count": 0,
      "outputs": []
    },
    {
      "cell_type": "code",
      "metadata": {
        "id": "xCGAAJMafN2D",
        "colab_type": "code",
        "colab": {}
      },
      "source": [
        "pigmented = np.hstack([pigmented[0:2], pigmented[12], pigmented[21:28], pigmented[2:12], pigmented[13:20]])"
      ],
      "execution_count": 0,
      "outputs": []
    },
    {
      "cell_type": "code",
      "metadata": {
        "id": "8oUhRhYvfN2E",
        "colab_type": "code",
        "colab": {}
      },
      "source": [
        "plt.plot(normal-pigmented)"
      ],
      "execution_count": 0,
      "outputs": []
    },
    {
      "cell_type": "code",
      "metadata": {
        "id": "RQzHMxI8fN2F",
        "colab_type": "code",
        "colab": {}
      },
      "source": [
        "## 26, 21, 2, 3, 8 -> 8,3,10,11,16"
      ],
      "execution_count": 0,
      "outputs": []
    },
    {
      "cell_type": "code",
      "metadata": {
        "id": "DSo5OEV8fN2F",
        "colab_type": "code",
        "colab": {}
      },
      "source": [
        "normal.shape"
      ],
      "execution_count": 0,
      "outputs": []
    },
    {
      "cell_type": "code",
      "metadata": {
        "id": "kuY1yTNrfN2G",
        "colab_type": "code",
        "colab": {}
      },
      "source": [
        "normal = np.hstack([normal[0:3], normal[4:8], normal[9], normal[12:16], normal[17:27]])"
      ],
      "execution_count": 0,
      "outputs": []
    },
    {
      "cell_type": "code",
      "metadata": {
        "id": "PR9K3H7ufN2H",
        "colab_type": "code",
        "colab": {}
      },
      "source": [
        "pigmented = np.hstack([pigmented[0:3], pigmented[4:8], pigmented[9], pigmented[12:16], pigmented[17:27]])"
      ],
      "execution_count": 0,
      "outputs": []
    },
    {
      "cell_type": "code",
      "metadata": {
        "id": "3xtRhAlQfN2I",
        "colab_type": "code",
        "colab": {}
      },
      "source": [
        "new_files_names = np.hstack([filenames[0:3], filenames[4:8], filenames[9], filenames[12:16], filenames[17:27]])"
      ],
      "execution_count": 0,
      "outputs": []
    },
    {
      "cell_type": "code",
      "metadata": {
        "id": "4Bn2MCC6fN2I",
        "colab_type": "code",
        "colab": {}
      },
      "source": [
        "plt.plot(normal-pigmented)"
      ],
      "execution_count": 0,
      "outputs": []
    },
    {
      "cell_type": "code",
      "metadata": {
        "id": "RGsF6DPXfN2L",
        "colab_type": "code",
        "colab": {}
      },
      "source": [
        "plt.plot(pigmented)"
      ],
      "execution_count": 0,
      "outputs": []
    },
    {
      "cell_type": "code",
      "metadata": {
        "id": "edq64hVRfN2M",
        "colab_type": "code",
        "colab": {}
      },
      "source": [
        "plt.plot(normal)"
      ],
      "execution_count": 0,
      "outputs": []
    },
    {
      "cell_type": "code",
      "metadata": {
        "id": "mKzE4nHQfN2N",
        "colab_type": "code",
        "colab": {}
      },
      "source": [
        "plt.plot(pigmented/normal)"
      ],
      "execution_count": 0,
      "outputs": []
    },
    {
      "cell_type": "code",
      "metadata": {
        "id": "AlBabwzifN2N",
        "colab_type": "code",
        "colab": {}
      },
      "source": [
        "plt.plot((normal - pigmented)/normal)"
      ],
      "execution_count": 0,
      "outputs": []
    },
    {
      "cell_type": "code",
      "metadata": {
        "id": "QgYrZGrXfN2O",
        "colab_type": "code",
        "colab": {}
      },
      "source": [
        "new_files_names"
      ],
      "execution_count": 0,
      "outputs": []
    },
    {
      "cell_type": "code",
      "metadata": {
        "id": "KTrCVmMOfN2P",
        "colab_type": "code",
        "colab": {}
      },
      "source": [
        "plt.imshow(imagesp[12])"
      ],
      "execution_count": 0,
      "outputs": []
    },
    {
      "cell_type": "code",
      "metadata": {
        "id": "ZtyHpfeIfN2Q",
        "colab_type": "code",
        "colab": {}
      },
      "source": [
        ""
      ],
      "execution_count": 0,
      "outputs": []
    },
    {
      "cell_type": "code",
      "metadata": {
        "id": "0-fgJ663fN2U",
        "colab_type": "code",
        "colab": {}
      },
      "source": [
        ""
      ],
      "execution_count": 0,
      "outputs": []
    },
    {
      "cell_type": "markdown",
      "metadata": {
        "id": "AT9oUH6HujIw",
        "colab_type": "text"
      },
      "source": [
        ""
      ]
    }
  ]
}